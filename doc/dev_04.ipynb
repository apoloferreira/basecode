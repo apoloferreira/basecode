{
 "cells": [
  {
   "cell_type": "code",
   "execution_count": 1,
   "id": "2c289954",
   "metadata": {},
   "outputs": [],
   "source": [
    "import sys\n",
    "import os"
   ]
  },
  {
   "cell_type": "code",
   "execution_count": null,
   "id": "1ab11816",
   "metadata": {},
   "outputs": [],
   "source": [
    "temp_libraries = os.listdir(\"/tmp/\")\n",
    "temp_path_location = ''\n",
    "for location in temp_libraries:\n",
    "    if 'glue-python-libs' in location:\n",
    "        temp_path_location = location + \"/\"\n",
    "\n",
    "file_name = os.listdir(f\"/tmp/{temp_path_location}\")[0]\n",
    "final_cert_path_file = f\"/tmp/{temp_path_location}{file_name}\"\n",
    "print(f\"os.listdir('/tmp/{temp_path_location}')={os.listdir(f'/tmp/{temp_path_location}')}\")"
   ]
  },
  {
   "cell_type": "code",
   "execution_count": null,
   "id": "482d10e2",
   "metadata": {},
   "outputs": [],
   "source": [
    "dirs = os.listdir('.')\n",
    "gluelib = list(filter(lambda c: c.startswith('glue-python-libs-'), dirs))\n",
    "print(f\"gluelib: {gluelib}\")\n",
    "print(os.listdir(gluelib))\n",
    "\n",
    "# gluelib = gluelib[0]\n",
    "module_zip = list(filter(lambda c: c.endswith('.zip'), gluelib))\n",
    "module_zip = module_zip[0]\n",
    "print(f\"module_zip: {module_zip}\")\n",
    "\n",
    "# with open(f\"/tmp/{gluelib[0]}/depFile1.txt\", \"r\") as f:\n",
    "#     lines = f.readlines()\n",
    "#     print(lines)"
   ]
  },
  {
   "cell_type": "code",
   "execution_count": null,
   "id": "de159ccd",
   "metadata": {},
   "outputs": [],
   "source": [
    "def set_module() -> None:\n",
    "    dirs = os.listdir('/tmp')\n",
    "    gluelib = list(filter(lambda c: c.startswith('glue-python-libs-'), dirs))\n",
    "    dir_gluelib = f\"/tmp/{gluelib[0]}/\"\n",
    "    module_zip = list(filter(lambda c: c.endswith('.zip'), os.listdir(dir_gluelib)))\n",
    "    module_zip = module_zip[0]\n",
    "    sys.path.insert(0, f\"{dir_gluelib}/{module_zip}\")\n",
    "    sys.path.append(dir_gluelib)"
   ]
  },
  {
   "cell_type": "code",
   "execution_count": null,
   "id": "a6e8a517",
   "metadata": {},
   "outputs": [],
   "source": []
  },
  {
   "cell_type": "raw",
   "id": "b8dba197",
   "metadata": {
    "vscode": {
     "languageId": "raw"
    }
   },
   "source": [
    "pyarrow==19.0.1,awswrangler==3.10.0,pyiceberg==0.9.1,shapely==2.0.4,xarray==2023.6.0,zarr==2.18.2,odc-stac==0.4.0,obstore,pystac-client,pystac,s3fs\n",
    "\n",
    "pyarrow,awswrangler,pyiceberg,shapely,xarray,zarr,obstore,s3fs,pystac-client,pystac,odc-stac"
   ]
  },
  {
   "cell_type": "code",
   "execution_count": null,
   "id": "7caa12ee",
   "metadata": {},
   "outputs": [],
   "source": []
  },
  {
   "cell_type": "code",
   "execution_count": null,
   "id": "64f5951c",
   "metadata": {},
   "outputs": [],
   "source": []
  },
  {
   "cell_type": "code",
   "execution_count": null,
   "id": "70ba3d2f",
   "metadata": {},
   "outputs": [],
   "source": []
  },
  {
   "cell_type": "code",
   "execution_count": null,
   "id": "ab60bfbf",
   "metadata": {},
   "outputs": [],
   "source": []
  },
  {
   "cell_type": "code",
   "execution_count": null,
   "id": "15193c7c",
   "metadata": {},
   "outputs": [],
   "source": []
  }
 ],
 "metadata": {
  "kernelspec": {
   "display_name": "itau",
   "language": "python",
   "name": "python3"
  },
  "language_info": {
   "codemirror_mode": {
    "name": "ipython",
    "version": 3
   },
   "file_extension": ".py",
   "mimetype": "text/x-python",
   "name": "python",
   "nbconvert_exporter": "python",
   "pygments_lexer": "ipython3",
   "version": "3.10.14"
  }
 },
 "nbformat": 4,
 "nbformat_minor": 5
}
