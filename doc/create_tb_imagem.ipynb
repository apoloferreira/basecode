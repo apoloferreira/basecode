{
 "cells": [
  {
   "cell_type": "code",
   "execution_count": null,
   "id": "7146aaff",
   "metadata": {},
   "outputs": [],
   "source": []
  },
  {
   "cell_type": "code",
   "execution_count": 1,
   "id": "9966c3b2",
   "metadata": {},
   "outputs": [],
   "source": [
    "import boto3\n",
    "import geojson\n",
    "import pyarrow as pa\n",
    "import pandas as pd\n",
    "import geopandas as gpd\n",
    "\n",
    "from typing import ClassVar, Type\n",
    "from datetime import datetime\n",
    "from pyarrow.fs import S3FileSystem\n",
    "from dataclasses import dataclass\n",
    "\n",
    "from pyiceberg.catalog import load_catalog\n",
    "from pyiceberg.catalog.glue import GlueCatalog\n",
    "from pyiceberg.table import StaticTable, DataScan\n",
    "from pyiceberg.partitioning import PartitionSpec, PartitionField\n",
    "from pyiceberg.table.sorting import SortOrder, SortField\n",
    "from pyiceberg.io.pyarrow import pyarrow_to_schema\n",
    "from pyiceberg.transforms import IdentityTransform, DayTransform, YearTransform\n",
    "from pyiceberg.expressions import EqualTo, GreaterThanOrEqual\n",
    "from pyiceberg.schema import Schema\n",
    "from pyiceberg.table import Table\n",
    "from pyiceberg import types as T\n",
    "\n",
    "from geojson.utils import coords\n",
    "from shapely.geometry import shape, Polygon, LinearRing, box, mapping"
   ]
  },
  {
   "cell_type": "code",
   "execution_count": 2,
   "id": "1c4b0efc",
   "metadata": {},
   "outputs": [],
   "source": [
    "glue_catalog = load_catalog(\n",
    "    'default',\n",
    "    type='glue',\n",
    "    profile='default',\n",
    "    region_name='us-east-1',\n",
    "    client={\n",
    "        'region': 'us-east-1',\n",
    "    }\n",
    ")"
   ]
  },
  {
   "cell_type": "code",
   "execution_count": 3,
   "id": "2930fd0b",
   "metadata": {},
   "outputs": [],
   "source": [
    "# glue_catalog.create_namespace_if_not_exists(\"db_ice\")"
   ]
  },
  {
   "cell_type": "code",
   "execution_count": 4,
   "id": "13936b12",
   "metadata": {},
   "outputs": [
    {
     "data": {
      "text/plain": [
       "[('base',), ('db_ice',), ('default',), ('sagemaker_featurestore',)]"
      ]
     },
     "execution_count": 4,
     "metadata": {},
     "output_type": "execute_result"
    }
   ],
   "source": [
    "glue_catalog.list_namespaces()"
   ]
  },
  {
   "cell_type": "code",
   "execution_count": 5,
   "id": "69a6e870",
   "metadata": {},
   "outputs": [],
   "source": [
    "DATABASE = \"db_ice\""
   ]
  },
  {
   "cell_type": "code",
   "execution_count": 6,
   "id": "7a597ec2",
   "metadata": {},
   "outputs": [
    {
     "data": {
      "text/plain": [
       "[('db_ice', 'tb_controle_imagem'),\n",
       " ('db_ice', 'tb_controle_ingestao'),\n",
       " ('db_ice', 'tb_imagem'),\n",
       " ('db_ice', 'tb_poligono')]"
      ]
     },
     "execution_count": 6,
     "metadata": {},
     "output_type": "execute_result"
    }
   ],
   "source": [
    "glue_catalog.list_tables(DATABASE)"
   ]
  },
  {
   "cell_type": "markdown",
   "id": "162bcde8",
   "metadata": {},
   "source": [
    "## Create table"
   ]
  },
  {
   "cell_type": "code",
   "execution_count": null,
   "id": "0cc48249",
   "metadata": {},
   "outputs": [],
   "source": [
    "tb_name        = \"tb_imagem\"\n",
    "table_location = f\"s3://data-us-east-1-891377318910/db_ice/{tb_name}\" \n",
    "\n",
    "schema = Schema(\n",
    "    T.NestedField(1, \"id_poligono\", T.StringType(), required=True),\n",
    "    T.NestedField(2, \"data_imagem\", T.StringType(), required=True),\n",
    "    T.NestedField(3, \"no_data\", T.FloatType(), required=False),\n",
    "    T.NestedField(4, \"saturated_or_defective\", T.FloatType(), required=False),\n",
    "    T.NestedField(5, \"dark_area_pixels\", T.FloatType(), required=False),\n",
    "    T.NestedField(6, \"cloud_shadows\", T.FloatType(), required=False),\n",
    "    T.NestedField(7, \"vegetation\", T.FloatType(), required=False),\n",
    "    T.NestedField(8, \"bare_soils\", T.FloatType(), required=False),\n",
    "    T.NestedField(9, \"water\", T.FloatType(), required=False),\n",
    "    T.NestedField(10, \"clouds_low_probability_or_unclassified\", T.FloatType(), required=False),\n",
    "    T.NestedField(11, \"clouds_medium_probability\", T.FloatType(), required=False),\n",
    "    T.NestedField(12, \"clouds_high_probability\", T.FloatType(), required=False),\n",
    "    T.NestedField(13, \"thin_cirrus\", T.FloatType(), required=False),\n",
    "    T.NestedField(14, \"snow_or_ice\", T.FloatType(), required=False),\n",
    "    identifier_field_ids=[1, 2],\n",
    "    field_ids=[1, 2]\n",
    ")"
   ]
  },
  {
   "cell_type": "code",
   "execution_count": 9,
   "id": "063b6644",
   "metadata": {},
   "outputs": [],
   "source": [
    "table = glue_catalog.create_table(\n",
    "    identifier=(DATABASE, tb_name),\n",
    "    schema=schema,\n",
    "    location=table_location,\n",
    "    sort_order=SortOrder(\n",
    "        fields=[\n",
    "            SortField(1, IdentityTransform(), ascending=True),\n",
    "        ]\n",
    "    ),\n",
    "    properties={\n",
    "        \"format-version\": \"2\",\n",
    "        \"write.format.default\": \"parquet\",\n",
    "        \"write.parquet.compression-codec\": \"snappy\",\n",
    "        \"write.parquet.page-size\": \"1048576\",  # 1 MB\n",
    "        \"write.parquet.dictionary-enabled\": \"true\",\n",
    "        \"write.parquet.dictionary-page-size\": \"1048576\",  # 1 MB\n",
    "        \"write.parquet.block-size\": \"268435456\",  # 256 MB\n",
    "        \"write.parquet.enable-encoding\": \"true\",\n",
    "        \"write.parquet.enable-statistics\": \"true\",\n",
    "        \"write.parquet.enable-bloom-filter\": \"true\",\n",
    "        \"write.parquet.bloom-filter-encoding\": \"utf8\",\n",
    "    }\n",
    ")"
   ]
  },
  {
   "cell_type": "markdown",
   "id": "620e4e68",
   "metadata": {},
   "source": [
    "## Insert data"
   ]
  },
  {
   "cell_type": "code",
   "execution_count": 10,
   "id": "534fdfe8",
   "metadata": {},
   "outputs": [],
   "source": [
    "table = glue_catalog.load_table((DATABASE, tb_name))"
   ]
  },
  {
   "cell_type": "code",
   "execution_count": 11,
   "id": "077290b3",
   "metadata": {},
   "outputs": [
    {
     "data": {
      "text/plain": [
       "<bound method Table.schema of tb_imagem_2(\n",
       "  1: id_poligono: required string,\n",
       "  2: data_imagem: required string,\n",
       "  3: no_data: optional float,\n",
       "  4: saturated_or_defective: optional float,\n",
       "  5: dark_area_pixels: optional float,\n",
       "  6: cloud_shadows: optional float,\n",
       "  7: vegetation: optional float,\n",
       "  8: bare_soils: optional float,\n",
       "  9: water: optional float,\n",
       "  10: clouds_low_probability_or_unclassified: optional float,\n",
       "  11: clouds_medium_probability: optional float,\n",
       "  12: clouds_high_probability: optional float,\n",
       "  13: thin_cirrus: optional float,\n",
       "  14: snow_or_ice: optional float\n",
       "),\n",
       "partition by: [],\n",
       "sort order: [1 ASC NULLS FIRST],\n",
       "snapshot: null>"
      ]
     },
     "execution_count": 11,
     "metadata": {},
     "output_type": "execute_result"
    }
   ],
   "source": [
    "table.schema"
   ]
  },
  {
   "cell_type": "code",
   "execution_count": 10,
   "id": "a54de5dc",
   "metadata": {},
   "outputs": [],
   "source": [
    "arrow_schema = pa.schema([\n",
    "    pa.field(\"id_poligono\", pa.string(), nullable=False),\n",
    "    pa.field(\"data_imagem\", pa.string(), nullable=False),\n",
    "    pa.field(\"no_data\", pa.float32(), nullable=True),\n",
    "    pa.field(\"saturated_or_defective\", pa.float32(), nullable=True),\n",
    "    pa.field(\"dark_area_pixels\", pa.float32(), nullable=True),\n",
    "    pa.field(\"cloud_shadows\", pa.float32(), nullable=True),\n",
    "    pa.field(\"vegetation\", pa.float32(), nullable=True),\n",
    "    pa.field(\"bare_soils\", pa.float32(), nullable=True),\n",
    "    pa.field(\"water\", pa.float32(), nullable=True),\n",
    "    pa.field(\"clouds_low_probability_or_unclassified\", pa.float32(), nullable=True),\n",
    "    pa.field(\"clouds_medium_probability\", pa.float32(), nullable=True),\n",
    "    pa.field(\"clouds_high_probability\", pa.float32(), nullable=True),\n",
    "    pa.field(\"thin_cirrus\", pa.float32(), nullable=True),\n",
    "    pa.field(\"snow_or_ice\", pa.float32(), nullable=True),\n",
    "])"
   ]
  },
  {
   "cell_type": "code",
   "execution_count": null,
   "id": "c1de47e2",
   "metadata": {},
   "outputs": [],
   "source": [
    "table_values = [\n",
    "    {\n",
    "        \"id_poligono\": \"id_101\", \n",
    "        \"data_imagem\": \"2025-08-29\",\n",
    "\n",
    "    },\n",
    "]"
   ]
  },
  {
   "cell_type": "code",
   "execution_count": null,
   "id": "a9d2828d",
   "metadata": {},
   "outputs": [],
   "source": [
    "pa_table = pa.Table.from_pylist(\n",
    "    table_values,\n",
    "    schema=arrow_schema\n",
    ")"
   ]
  },
  {
   "cell_type": "code",
   "execution_count": 17,
   "id": "343c3178",
   "metadata": {},
   "outputs": [
    {
     "data": {
      "text/html": [
       "<div>\n",
       "<style scoped>\n",
       "    .dataframe tbody tr th:only-of-type {\n",
       "        vertical-align: middle;\n",
       "    }\n",
       "\n",
       "    .dataframe tbody tr th {\n",
       "        vertical-align: top;\n",
       "    }\n",
       "\n",
       "    .dataframe thead th {\n",
       "        text-align: right;\n",
       "    }\n",
       "</style>\n",
       "<table border=\"1\" class=\"dataframe\">\n",
       "  <thead>\n",
       "    <tr style=\"text-align: right;\">\n",
       "      <th></th>\n",
       "      <th>id_poligono</th>\n",
       "      <th>poligono</th>\n",
       "      <th>area_poligono</th>\n",
       "      <th>caminho_s3</th>\n",
       "    </tr>\n",
       "  </thead>\n",
       "  <tbody>\n",
       "    <tr>\n",
       "      <th>0</th>\n",
       "      <td>id_101</td>\n",
       "      <td>POLYGON((-47.9296875 -15.601025390625,-47.8125...</td>\n",
       "      <td>100</td>\n",
       "      <td>s3://data-us-east-1-891377318910/geospatial/mv...</td>\n",
       "    </tr>\n",
       "  </tbody>\n",
       "</table>\n",
       "</div>"
      ],
      "text/plain": [
       "  id_poligono                                           poligono  \\\n",
       "0      id_101  POLYGON((-47.9296875 -15.601025390625,-47.8125...   \n",
       "\n",
       "  area_poligono                                         caminho_s3  \n",
       "0           100  s3://data-us-east-1-891377318910/geospatial/mv...  "
      ]
     },
     "execution_count": 17,
     "metadata": {},
     "output_type": "execute_result"
    }
   ],
   "source": [
    "pa_table.to_pandas().head()"
   ]
  },
  {
   "cell_type": "code",
   "execution_count": 18,
   "id": "06553c9b",
   "metadata": {},
   "outputs": [],
   "source": [
    "table.append(pa_table)"
   ]
  },
  {
   "cell_type": "code",
   "execution_count": null,
   "id": "3f407406",
   "metadata": {},
   "outputs": [],
   "source": []
  },
  {
   "cell_type": "code",
   "execution_count": null,
   "id": "58b9f6c8",
   "metadata": {},
   "outputs": [],
   "source": []
  },
  {
   "cell_type": "code",
   "execution_count": null,
   "id": "721b6fb6",
   "metadata": {},
   "outputs": [],
   "source": []
  }
 ],
 "metadata": {
  "kernelspec": {
   "display_name": "itau",
   "language": "python",
   "name": "python3"
  },
  "language_info": {
   "codemirror_mode": {
    "name": "ipython",
    "version": 3
   },
   "file_extension": ".py",
   "mimetype": "text/x-python",
   "name": "python",
   "nbconvert_exporter": "python",
   "pygments_lexer": "ipython3",
   "version": "3.10.14"
  }
 },
 "nbformat": 4,
 "nbformat_minor": 5
}
