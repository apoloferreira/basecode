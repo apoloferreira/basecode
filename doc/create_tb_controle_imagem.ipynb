{
 "cells": [
  {
   "cell_type": "code",
   "execution_count": null,
   "id": "7146aaff",
   "metadata": {},
   "outputs": [],
   "source": []
  },
  {
   "cell_type": "code",
   "execution_count": 1,
   "id": "9966c3b2",
   "metadata": {},
   "outputs": [],
   "source": [
    "import boto3\n",
    "import geojson\n",
    "import pyarrow as pa\n",
    "import pandas as pd\n",
    "import geopandas as gpd\n",
    "\n",
    "from typing import ClassVar, Type\n",
    "from datetime import datetime\n",
    "from pyarrow.fs import S3FileSystem\n",
    "from dataclasses import dataclass\n",
    "\n",
    "from pyiceberg.catalog import load_catalog\n",
    "from pyiceberg.catalog.glue import GlueCatalog\n",
    "from pyiceberg.table import StaticTable, DataScan\n",
    "from pyiceberg.partitioning import PartitionSpec, PartitionField\n",
    "from pyiceberg.table.sorting import SortOrder, SortField\n",
    "from pyiceberg.io.pyarrow import pyarrow_to_schema\n",
    "from pyiceberg.transforms import IdentityTransform, DayTransform, YearTransform\n",
    "from pyiceberg.expressions import EqualTo, GreaterThanOrEqual\n",
    "from pyiceberg.schema import Schema\n",
    "from pyiceberg.table import Table\n",
    "from pyiceberg import types as T\n",
    "\n",
    "from geojson.utils import coords\n",
    "from shapely.geometry import shape, Polygon, LinearRing, box, mapping"
   ]
  },
  {
   "cell_type": "code",
   "execution_count": 2,
   "id": "1c4b0efc",
   "metadata": {},
   "outputs": [],
   "source": [
    "glue_catalog = load_catalog(\n",
    "    'default',\n",
    "    type='glue',\n",
    "    profile='default',\n",
    "    region_name='us-east-1',\n",
    "    client={\n",
    "        'region': 'us-east-1',\n",
    "    }\n",
    ")"
   ]
  },
  {
   "cell_type": "code",
   "execution_count": 3,
   "id": "2930fd0b",
   "metadata": {},
   "outputs": [],
   "source": [
    "# glue_catalog.create_namespace_if_not_exists(\"db_ice\")"
   ]
  },
  {
   "cell_type": "code",
   "execution_count": 4,
   "id": "13936b12",
   "metadata": {},
   "outputs": [
    {
     "data": {
      "text/plain": [
       "[('base',), ('db_ice',), ('default',), ('sagemaker_featurestore',)]"
      ]
     },
     "execution_count": 4,
     "metadata": {},
     "output_type": "execute_result"
    }
   ],
   "source": [
    "glue_catalog.list_namespaces()"
   ]
  },
  {
   "cell_type": "code",
   "execution_count": 5,
   "id": "69a6e870",
   "metadata": {},
   "outputs": [],
   "source": [
    "DATABASE = \"db_ice\""
   ]
  },
  {
   "cell_type": "code",
   "execution_count": 6,
   "id": "7a597ec2",
   "metadata": {},
   "outputs": [
    {
     "data": {
      "text/plain": [
       "[('db_ice', 'tb_controle_ingestao'), ('db_ice', 'tb_poligono')]"
      ]
     },
     "execution_count": 6,
     "metadata": {},
     "output_type": "execute_result"
    }
   ],
   "source": [
    "glue_catalog.list_tables(DATABASE)"
   ]
  },
  {
   "cell_type": "markdown",
   "id": "162bcde8",
   "metadata": {},
   "source": [
    "## Create table"
   ]
  },
  {
   "cell_type": "code",
   "execution_count": 8,
   "id": "0cc48249",
   "metadata": {},
   "outputs": [],
   "source": [
    "tb_name        = \"tb_controle_imagem\"\n",
    "table_location = f\"s3://data-us-east-1-891377318910/db_ice/{tb_name}\" \n",
    "\n",
    "schema = Schema(\n",
    "    T.NestedField(1, \"id_poligono\", T.StringType(), required=True),\n",
    "    T.NestedField(2, \"poligono\", T.StringType(), required=True),\n",
    "    T.NestedField(3, \"area_poligono\", T.StringType(), required=False),\n",
    "    T.NestedField(4, \"caminho_s3\", T.StringType(), required=False),\n",
    "    identifier_field_ids=[1]\n",
    ")"
   ]
  },
  {
   "cell_type": "code",
   "execution_count": 9,
   "id": "063b6644",
   "metadata": {},
   "outputs": [],
   "source": [
    "table = glue_catalog.create_table(\n",
    "    identifier=(DATABASE, tb_name),\n",
    "    schema=schema,\n",
    "    location=table_location,\n",
    "    sort_order=SortOrder(\n",
    "        fields=[\n",
    "            SortField(1, IdentityTransform(), ascending=True),\n",
    "        ]\n",
    "    ),\n",
    "    properties={\n",
    "        \"format-version\": \"2\",\n",
    "        \"write.format.default\": \"parquet\",\n",
    "        \"write.parquet.compression-codec\": \"snappy\",\n",
    "        \"write.parquet.page-size\": \"1048576\",  # 1 MB\n",
    "        \"write.parquet.dictionary-enabled\": \"true\",\n",
    "        \"write.parquet.dictionary-page-size\": \"1048576\",  # 1 MB\n",
    "        \"write.parquet.block-size\": \"268435456\",  # 256 MB\n",
    "        \"write.parquet.enable-encoding\": \"true\",\n",
    "        \"write.parquet.enable-statistics\": \"true\",\n",
    "        \"write.parquet.enable-bloom-filter\": \"true\",\n",
    "        \"write.parquet.bloom-filter-encoding\": \"utf8\",\n",
    "    }\n",
    ")"
   ]
  },
  {
   "cell_type": "markdown",
   "id": "620e4e68",
   "metadata": {},
   "source": [
    "## Insert data"
   ]
  },
  {
   "cell_type": "code",
   "execution_count": 10,
   "id": "534fdfe8",
   "metadata": {},
   "outputs": [],
   "source": [
    "table = glue_catalog.load_table((DATABASE, tb_name))"
   ]
  },
  {
   "cell_type": "code",
   "execution_count": 11,
   "id": "a54de5dc",
   "metadata": {},
   "outputs": [],
   "source": [
    "arrow_schema = pa.schema(\n",
    "    [\n",
    "        pa.field(\"id_poligono\", pa.string(), nullable=False),\n",
    "        pa.field(\"poligono\", pa.string(), nullable=False),\n",
    "        pa.field(\"area_poligono\", pa.string(), nullable=True),\n",
    "        pa.field(\"caminho_s3\", pa.string(), nullable=True),\n",
    "    ]\n",
    ")"
   ]
  },
  {
   "cell_type": "code",
   "execution_count": 15,
   "id": "c1de47e2",
   "metadata": {},
   "outputs": [],
   "source": [
    "table_values = [\n",
    "    {\n",
    "        \"id_poligono\": \"id_101\", \n",
    "        \"poligono\": \"POLYGON((-47.9296875 -15.601025390625,-47.8125 -15.601025390625,-47.8125 -15.517578125,-47.929687))\",\n",
    "        \"area_poligono\": \"100\",\n",
    "        \"caminho_s3\": \"s3://data-us-east-1-891377318910/geospatial/mvp/images/id_101.zarr\",\n",
    "    },\n",
    "]"
   ]
  },
  {
   "cell_type": "code",
   "execution_count": 16,
   "id": "a9d2828d",
   "metadata": {},
   "outputs": [],
   "source": [
    "pa_table = pa.Table.from_pylist(\n",
    "    table_values,\n",
    "    schema=arrow_schema\n",
    ")"
   ]
  },
  {
   "cell_type": "code",
   "execution_count": 17,
   "id": "343c3178",
   "metadata": {},
   "outputs": [
    {
     "data": {
      "text/html": [
       "<div>\n",
       "<style scoped>\n",
       "    .dataframe tbody tr th:only-of-type {\n",
       "        vertical-align: middle;\n",
       "    }\n",
       "\n",
       "    .dataframe tbody tr th {\n",
       "        vertical-align: top;\n",
       "    }\n",
       "\n",
       "    .dataframe thead th {\n",
       "        text-align: right;\n",
       "    }\n",
       "</style>\n",
       "<table border=\"1\" class=\"dataframe\">\n",
       "  <thead>\n",
       "    <tr style=\"text-align: right;\">\n",
       "      <th></th>\n",
       "      <th>id_poligono</th>\n",
       "      <th>poligono</th>\n",
       "      <th>area_poligono</th>\n",
       "      <th>caminho_s3</th>\n",
       "    </tr>\n",
       "  </thead>\n",
       "  <tbody>\n",
       "    <tr>\n",
       "      <th>0</th>\n",
       "      <td>id_101</td>\n",
       "      <td>POLYGON((-47.9296875 -15.601025390625,-47.8125...</td>\n",
       "      <td>100</td>\n",
       "      <td>s3://data-us-east-1-891377318910/geospatial/mv...</td>\n",
       "    </tr>\n",
       "  </tbody>\n",
       "</table>\n",
       "</div>"
      ],
      "text/plain": [
       "  id_poligono                                           poligono  \\\n",
       "0      id_101  POLYGON((-47.9296875 -15.601025390625,-47.8125...   \n",
       "\n",
       "  area_poligono                                         caminho_s3  \n",
       "0           100  s3://data-us-east-1-891377318910/geospatial/mv...  "
      ]
     },
     "execution_count": 17,
     "metadata": {},
     "output_type": "execute_result"
    }
   ],
   "source": [
    "pa_table.to_pandas().head()"
   ]
  },
  {
   "cell_type": "code",
   "execution_count": 18,
   "id": "06553c9b",
   "metadata": {},
   "outputs": [],
   "source": [
    "table.append(pa_table)"
   ]
  },
  {
   "cell_type": "code",
   "execution_count": null,
   "id": "3f407406",
   "metadata": {},
   "outputs": [],
   "source": []
  },
  {
   "cell_type": "code",
   "execution_count": null,
   "id": "58b9f6c8",
   "metadata": {},
   "outputs": [],
   "source": []
  },
  {
   "cell_type": "code",
   "execution_count": null,
   "id": "721b6fb6",
   "metadata": {},
   "outputs": [],
   "source": []
  }
 ],
 "metadata": {
  "kernelspec": {
   "display_name": "itau",
   "language": "python",
   "name": "python3"
  },
  "language_info": {
   "codemirror_mode": {
    "name": "ipython",
    "version": 3
   },
   "file_extension": ".py",
   "mimetype": "text/x-python",
   "name": "python",
   "nbconvert_exporter": "python",
   "pygments_lexer": "ipython3",
   "version": "3.10.14"
  }
 },
 "nbformat": 4,
 "nbformat_minor": 5
}
