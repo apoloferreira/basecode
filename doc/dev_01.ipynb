{
 "cells": [
  {
   "cell_type": "raw",
   "id": "95ef8a41",
   "metadata": {
    "vscode": {
     "languageId": "raw"
    }
   },
   "source": [
    "# LINKS\n"
   ]
  },
  {
   "cell_type": "code",
   "execution_count": 17,
   "id": "a941bf84",
   "metadata": {},
   "outputs": [],
   "source": [
    "import boto3\n",
    "import pyarrow as pa\n",
    "import pandas as pd\n",
    "\n",
    "from typing import ClassVar, Type\n",
    "from datetime import datetime\n",
    "from pyarrow.fs import S3FileSystem \n",
    "from dataclasses import dataclass, asdict\n",
    "from abc import ABC, abstractmethod\n",
    "\n",
    "from pyiceberg.catalog import load_catalog\n",
    "from pyiceberg.catalog.glue import GlueCatalog\n",
    "from pyiceberg.table import StaticTable, DataScan\n",
    "from pyiceberg.partitioning import PartitionSpec, PartitionField\n",
    "from pyiceberg.table.sorting import SortOrder, SortField\n",
    "from pyiceberg.transforms import IdentityTransform\n",
    "from pyiceberg.expressions import EqualTo, GreaterThanOrEqual\n",
    "from pyiceberg.schema import Schema\n",
    "from pyiceberg.table import Table\n",
    "from pyiceberg import types as T\n",
    "\n",
    "from pyiceberg.exceptions import (\n",
    "    NamespaceAlreadyExistsError,\n",
    "    NoSuchNamespaceError,\n",
    "    NoSuchTableError,\n",
    "    NotInstalledError,\n",
    "    TableAlreadyExistsError,\n",
    ")"
   ]
  },
  {
   "cell_type": "code",
   "execution_count": 2,
   "metadata": {},
   "outputs": [],
   "source": [
    "glue_catalog = load_catalog(\n",
    "    'default',\n",
    "    type='glue',\n",
    "    profile='default',\n",
    "    region_name='us-east-1',\n",
    "    client={\n",
    "        'region': 'us-east-1',\n",
    "        # 'access-key-id': 'YOUR_ACCESS_KEY', # Avoid hardcoding in production\n",
    "        # 'secret-access-key': 'YOUR_SECRET_KEY' # Avoid hardcoding in production\n",
    "    }\n",
    ")"
   ]
  },
  {
   "cell_type": "code",
   "execution_count": 7,
   "id": "195bee4f",
   "metadata": {},
   "outputs": [],
   "source": [
    "DATABASE = \"db_ice\"\n",
    "TB_POLIGONO = \"tb_poligono\""
   ]
  },
  {
   "cell_type": "code",
   "execution_count": 5,
   "id": "1ac87a53",
   "metadata": {},
   "outputs": [
    {
     "data": {
      "text/plain": [
       "[('base',), ('db_ice',), ('default',), ('sagemaker_featurestore',)]"
      ]
     },
     "execution_count": 5,
     "metadata": {},
     "output_type": "execute_result"
    }
   ],
   "source": [
    "glue_catalog.list_namespaces()"
   ]
  },
  {
   "cell_type": "code",
   "execution_count": 6,
   "id": "048c0048",
   "metadata": {},
   "outputs": [
    {
     "data": {
      "text/plain": [
       "[('db_ice', 'tb_controle_ingestao'), ('db_ice', 'tb_poligono')]"
      ]
     },
     "execution_count": 6,
     "metadata": {},
     "output_type": "execute_result"
    }
   ],
   "source": [
    "glue_catalog.list_tables(DATABASE)"
   ]
  },
  {
   "cell_type": "code",
   "execution_count": 9,
   "id": "a58b094f",
   "metadata": {},
   "outputs": [
    {
     "data": {
      "text/plain": [
       "True"
      ]
     },
     "execution_count": 9,
     "metadata": {},
     "output_type": "execute_result"
    }
   ],
   "source": [
    "glue_catalog.table_exists(f\"{DATABASE}.{TB_POLIGONO}\")"
   ]
  },
  {
   "cell_type": "code",
   "execution_count": 8,
   "id": "cc2c46c8",
   "metadata": {},
   "outputs": [],
   "source": [
    "# table = glue_catalog.load_table(\"base.loan_2018\")\n",
    "table = glue_catalog.load_table((DATABASE, TB_POLIGONO))"
   ]
  },
  {
   "cell_type": "markdown",
   "id": "f92ef8c7",
   "metadata": {},
   "source": [
    "## Insert data"
   ]
  },
  {
   "cell_type": "code",
   "execution_count": 131,
   "id": "00d662d7",
   "metadata": {},
   "outputs": [],
   "source": [
    "class RecordNotExistsError(Exception):\n",
    "    \"\"\"Exception raised when a record does not exist in the table.\"\"\"\n",
    "    pass\n",
    "\n",
    "class PrimaryKeyDuplicatedError(Exception):\n",
    "    \"\"\"Exception raised when a record is duplicated in the table.\"\"\"\n",
    "    pass"
   ]
  },
  {
   "cell_type": "code",
   "execution_count": 100,
   "id": "66cd35f6",
   "metadata": {},
   "outputs": [],
   "source": [
    "class Record(ABC):\n",
    "\n",
    "    def to_dict(self) -> dict:\n",
    "        return asdict(self)"
   ]
  },
  {
   "cell_type": "code",
   "execution_count": 174,
   "id": "970b2472",
   "metadata": {},
   "outputs": [],
   "source": [
    "@dataclass\n",
    "class Poligono(Record):\n",
    "    id_poligono: str\n",
    "    poligono: str\n",
    "    data_plantio: str\n",
    "    anomesdia: int\n"
   ]
  },
  {
   "cell_type": "code",
   "execution_count": 187,
   "id": "f516e312",
   "metadata": {},
   "outputs": [],
   "source": [
    "class PATable(ABC):\n",
    "\n",
    "    @property\n",
    "    @abstractmethod\n",
    "    def schema(self):\n",
    "        pass\n",
    "\n",
    "    def __init__(self) -> None:\n",
    "        self.values: list[dict] = []\n",
    "\n",
    "    def check_unique_id(self, record_id: str) -> None:\n",
    "        ids = [record['id_poligono'] for record in self.values]\n",
    "        if record_id in ids:\n",
    "            raise PrimaryKeyDuplicatedError(f\"Record with id '{record_id}' already exists.\")\n",
    "\n",
    "    def add_record(self, record: Record) -> None:\n",
    "        record_dict = record.to_dict()\n",
    "        self.check_unique_id(record_id=record_dict['id_poligono'])\n",
    "        self.values.append(record_dict)\n",
    "\n",
    "    def clear(self) -> None:\n",
    "        self.values = []\n",
    "\n",
    "    def to_pyarrow_table(self) -> pa.Table:\n",
    "        return pa.Table.from_pylist(\n",
    "            self.values,\n",
    "            schema=self.schema\n",
    "        )\n"
   ]
  },
  {
   "cell_type": "code",
   "execution_count": 176,
   "id": "3df15aba",
   "metadata": {},
   "outputs": [],
   "source": [
    "class PATablePolygon(PATable):\n",
    "\n",
    "    schema: pa.schema = pa.schema([\n",
    "        pa.field(\"id_poligono\", pa.string(), nullable=False),\n",
    "        pa.field(\"poligono\", pa.string(), nullable=False),\n",
    "        pa.field(\"data_plantio\", pa.string(), nullable=True),\n",
    "        pa.field(\"anomesdia\", pa.uint32(), nullable=False),\n",
    "    ])\n"
   ]
  },
  {
   "cell_type": "code",
   "execution_count": 177,
   "id": "e4a150db",
   "metadata": {},
   "outputs": [],
   "source": [
    "record_polygon = Poligono(\n",
    "    id_poligono=\"1\",\n",
    "    poligono=\"POLYGON ((-47.9296875 -15.60197258, -47.9296875 -15.79381919, -47.67578125 -15.79381919, -47.67578125 -15.60197258, -47.9296875 -15.60197258))\",\n",
    "    data_plantio=\"2023-06-01\",\n",
    "    anomesdia=20230601\n",
    ")"
   ]
  },
  {
   "cell_type": "code",
   "execution_count": null,
   "id": "9dcb4988",
   "metadata": {},
   "outputs": [],
   "source": [
    "class IcebergTable:\n",
    "\n",
    "    def __init__(self, table: Table) -> None:\n",
    "        self.table = table\n",
    "\n",
    "    def load_record(self, record_id: int) -> DataScan:\n",
    "        return self.table.scan(row_filter=f\"id_poligono == '{record_id}'\")\n",
    "\n",
    "    def get_record(self, record_id: int) -> Record:\n",
    "        tb_arrow = self.load_record(record_id).to_arrow()\n",
    "        if tb_arrow.num_rows == 0:\n",
    "            raise RecordNotExistsError(f\"No record found with id '{record_id}'\")\n",
    "        if tb_arrow.num_rows > 1:\n",
    "            raise PrimaryKeyDuplicatedError(f\"Polygon Id duplicated with id '{record_id}'\")\n",
    "        return Poligono(\n",
    "            **{\n",
    "                key: value[0] for key, value \n",
    "                in tb_arrow.to_pydict().items()\n",
    "            }\n",
    "        )\n",
    "\n",
    "    def upsert(self, pyarrow_table: PATable) -> None:\n",
    "        table.upsert(\n",
    "            df=pyarrow_table.to_pyarrow_table(),\n",
    "            join_cols=[\"id_poligono\"]\n",
    "        )\n",
    "\n",
    "\n",
    "# table.delete(delete_filter=\"id == 3\")\n",
    "# table.refresh()"
   ]
  },
  {
   "cell_type": "code",
   "execution_count": 179,
   "id": "da87e404",
   "metadata": {},
   "outputs": [],
   "source": [
    "class IcebergFactory:\n",
    "\n",
    "    glue_catalog = load_catalog(\n",
    "        'default',\n",
    "        type='glue',\n",
    "        profile='default',\n",
    "        region_name='us-east-1',\n",
    "        client={\n",
    "            'region': 'us-east-1',\n",
    "        }\n",
    "    )\n",
    "\n",
    "    @classmethod\n",
    "    def load_iceberg_table(cls, database: str, table: str) -> IcebergTable:\n",
    "        table = cls.glue_catalog.load_table((database, table))\n",
    "        return IcebergTable(table)"
   ]
  },
  {
   "cell_type": "code",
   "execution_count": null,
   "id": "5dc093cd",
   "metadata": {},
   "outputs": [],
   "source": [
    "# table = glue_catalog.load_table((DATABASE, \"tb_poligono\"))"
   ]
  },
  {
   "cell_type": "code",
   "execution_count": null,
   "id": "190923dd",
   "metadata": {},
   "outputs": [],
   "source": [
    "# icerberg_polygon = IcebergTable(table)"
   ]
  },
  {
   "cell_type": "code",
   "execution_count": 180,
   "id": "c03c1c00",
   "metadata": {},
   "outputs": [],
   "source": [
    "icerberg_polygon = IcebergFactory().load_iceberg_table(DATABASE, TB_POLIGONO)"
   ]
  },
  {
   "cell_type": "code",
   "execution_count": 181,
   "id": "b0dc5e48",
   "metadata": {},
   "outputs": [],
   "source": [
    "pa_table_polygon = PATablePolygon()"
   ]
  },
  {
   "cell_type": "code",
   "execution_count": 182,
   "id": "cfa0a826",
   "metadata": {},
   "outputs": [],
   "source": [
    "record = icerberg_polygon.get_record(\"id_001\")"
   ]
  },
  {
   "cell_type": "code",
   "execution_count": 183,
   "id": "cd748697",
   "metadata": {},
   "outputs": [
    {
     "data": {
      "text/plain": [
       "'2023-06-21'"
      ]
     },
     "execution_count": 183,
     "metadata": {},
     "output_type": "execute_result"
    }
   ],
   "source": [
    "record.to_dict()['data_plantio']"
   ]
  },
  {
   "cell_type": "code",
   "execution_count": 184,
   "id": "7b990925",
   "metadata": {},
   "outputs": [
    {
     "data": {
      "text/plain": [
       "'2023-06-22'"
      ]
     },
     "execution_count": 184,
     "metadata": {},
     "output_type": "execute_result"
    }
   ],
   "source": [
    "record.data_plantio = \"2023-06-22\"\n",
    "record.to_dict()['data_plantio']"
   ]
  },
  {
   "cell_type": "code",
   "execution_count": 185,
   "id": "b7500fef",
   "metadata": {},
   "outputs": [
    {
     "data": {
      "text/html": [
       "<div>\n",
       "<style scoped>\n",
       "    .dataframe tbody tr th:only-of-type {\n",
       "        vertical-align: middle;\n",
       "    }\n",
       "\n",
       "    .dataframe tbody tr th {\n",
       "        vertical-align: top;\n",
       "    }\n",
       "\n",
       "    .dataframe thead th {\n",
       "        text-align: right;\n",
       "    }\n",
       "</style>\n",
       "<table border=\"1\" class=\"dataframe\">\n",
       "  <thead>\n",
       "    <tr style=\"text-align: right;\">\n",
       "      <th></th>\n",
       "      <th>id_poligono</th>\n",
       "      <th>poligono</th>\n",
       "      <th>data_plantio</th>\n",
       "      <th>anomesdia</th>\n",
       "    </tr>\n",
       "  </thead>\n",
       "  <tbody>\n",
       "    <tr>\n",
       "      <th>0</th>\n",
       "      <td>id_001</td>\n",
       "      <td>POLYGON ((-46.556983701 -23.612093836, -46.556...</td>\n",
       "      <td>2023-06-22</td>\n",
       "      <td>20250810</td>\n",
       "    </tr>\n",
       "  </tbody>\n",
       "</table>\n",
       "</div>"
      ],
      "text/plain": [
       "  id_poligono                                           poligono data_plantio  \\\n",
       "0      id_001  POLYGON ((-46.556983701 -23.612093836, -46.556...   2023-06-22   \n",
       "\n",
       "   anomesdia  \n",
       "0   20250810  "
      ]
     },
     "execution_count": 185,
     "metadata": {},
     "output_type": "execute_result"
    }
   ],
   "source": [
    "pa_table_polygon.add_record(record)\n",
    "pa_table_polygon.to_pyarrow_table().to_pandas()"
   ]
  },
  {
   "cell_type": "code",
   "execution_count": 188,
   "id": "f9a3ee1f",
   "metadata": {},
   "outputs": [],
   "source": [
    "# pa_table_polygon.add_record(record)\n",
    "# pa_table_polygon.to_pyarrow_table().to_pandas()"
   ]
  },
  {
   "cell_type": "code",
   "execution_count": 167,
   "id": "8fec2d57",
   "metadata": {},
   "outputs": [],
   "source": [
    "# pa_table_polygon.clear()\n",
    "# pa_table_polygon.to_pyarrow_table().to_pandas()"
   ]
  },
  {
   "cell_type": "code",
   "execution_count": 169,
   "id": "ba8cd9c2",
   "metadata": {},
   "outputs": [
    {
     "name": "stderr",
     "output_type": "stream",
     "text": [
      "/home/apolo/anaconda3/envs/itau/lib/python3.10/site-packages/pyiceberg/io/pyarrow.py:2532: UserWarning: Parquet writer option(s) ['write.parquet.bloom-filter-max-bytes'] not implemented\n",
      "  warnings.warn(f\"Parquet writer option(s) {unsupported_keys} not implemented\")\n"
     ]
    }
   ],
   "source": [
    "icerberg_polygon.upsert(pa_table_polygon)"
   ]
  },
  {
   "cell_type": "code",
   "execution_count": null,
   "id": "24fcfe1b",
   "metadata": {},
   "outputs": [],
   "source": [
    "# table.scan().to_polars().head()"
   ]
  },
  {
   "cell_type": "code",
   "execution_count": null,
   "id": "06b2e63a",
   "metadata": {},
   "outputs": [],
   "source": []
  },
  {
   "cell_type": "code",
   "execution_count": null,
   "id": "3194e720",
   "metadata": {},
   "outputs": [],
   "source": []
  },
  {
   "cell_type": "code",
   "execution_count": null,
   "id": "db84a15f",
   "metadata": {},
   "outputs": [],
   "source": []
  },
  {
   "cell_type": "code",
   "execution_count": null,
   "id": "3c0fe480",
   "metadata": {},
   "outputs": [],
   "source": []
  },
  {
   "cell_type": "code",
   "execution_count": null,
   "id": "4836fb8a",
   "metadata": {},
   "outputs": [],
   "source": []
  },
  {
   "cell_type": "code",
   "execution_count": null,
   "id": "ed64993e",
   "metadata": {},
   "outputs": [],
   "source": []
  },
  {
   "cell_type": "code",
   "execution_count": null,
   "id": "4a77a037",
   "metadata": {},
   "outputs": [],
   "source": []
  },
  {
   "cell_type": "code",
   "execution_count": null,
   "id": "9565f08b",
   "metadata": {},
   "outputs": [],
   "source": []
  },
  {
   "cell_type": "code",
   "execution_count": null,
   "id": "6ae7094d",
   "metadata": {},
   "outputs": [],
   "source": []
  }
 ],
 "metadata": {
  "kernelspec": {
   "display_name": "itau",
   "language": "python",
   "name": "python3"
  },
  "language_info": {
   "codemirror_mode": {
    "name": "ipython",
    "version": 3
   },
   "file_extension": ".py",
   "mimetype": "text/x-python",
   "name": "python",
   "nbconvert_exporter": "python",
   "pygments_lexer": "ipython3",
   "version": "3.10.14"
  }
 },
 "nbformat": 4,
 "nbformat_minor": 5
}
