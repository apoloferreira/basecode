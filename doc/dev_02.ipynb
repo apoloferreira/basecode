{
 "cells": [
  {
   "cell_type": "raw",
   "id": "95ef8a41",
   "metadata": {
    "vscode": {
     "languageId": "raw"
    }
   },
   "source": [
    "# LINKS\n"
   ]
  },
  {
   "cell_type": "code",
   "execution_count": 72,
   "id": "a941bf84",
   "metadata": {},
   "outputs": [],
   "source": [
    "import boto3\n",
    "import pyarrow as pa\n",
    "import pandas as pd\n",
    "import awswrangler as wr\n",
    "\n",
    "from typing import ClassVar, Type\n",
    "from datetime import datetime\n",
    "from pyarrow.fs import S3FileSystem \n",
    "from dataclasses import dataclass, asdict\n",
    "from abc import ABC, abstractmethod\n",
    "\n",
    "from pyiceberg.catalog import load_catalog\n",
    "from pyiceberg.catalog.glue import GlueCatalog\n",
    "from pyiceberg.table import StaticTable, DataScan\n",
    "from pyiceberg.partitioning import PartitionSpec, PartitionField\n",
    "from pyiceberg.table.sorting import SortOrder, SortField\n",
    "from pyiceberg.transforms import IdentityTransform\n",
    "from pyiceberg.expressions import EqualTo, GreaterThanOrEqual\n",
    "from pyiceberg.schema import Schema\n",
    "from pyiceberg.table import Table\n",
    "from pyiceberg import types as T\n",
    "\n",
    "from pyiceberg.exceptions import (\n",
    "    NamespaceAlreadyExistsError,\n",
    "    NoSuchNamespaceError,\n",
    "    NoSuchTableError,\n",
    "    NotInstalledError,\n",
    "    TableAlreadyExistsError,\n",
    ")"
   ]
  },
  {
   "cell_type": "code",
   "execution_count": 73,
   "metadata": {},
   "outputs": [],
   "source": [
    "glue_catalog = load_catalog(\n",
    "    'default',\n",
    "    type='glue',\n",
    "    profile='default',\n",
    "    region_name='us-east-1',\n",
    "    client={\n",
    "        'region': 'us-east-1',\n",
    "        # 'access-key-id': 'YOUR_ACCESS_KEY', # Avoid hardcoding in production\n",
    "        # 'secret-access-key': 'YOUR_SECRET_KEY' # Avoid hardcoding in production\n",
    "    }\n",
    ")"
   ]
  },
  {
   "cell_type": "code",
   "execution_count": 74,
   "id": "195bee4f",
   "metadata": {},
   "outputs": [],
   "source": [
    "DATABASE = \"db_ice\"\n",
    "TB_POLIGONO = \"tb_poligono\"\n",
    "TB_INGESTAO = \"tb_controle_ingestao\"\n",
    "TB_CONTROLE_IMAGEM = \"tb_controle_imagem\"\n",
    "TB_IMAGEM = \"tb_imagem\""
   ]
  },
  {
   "cell_type": "code",
   "execution_count": 75,
   "id": "1ac87a53",
   "metadata": {},
   "outputs": [
    {
     "data": {
      "text/plain": [
       "[('base',), ('db_ice',), ('default',), ('sagemaker_featurestore',)]"
      ]
     },
     "execution_count": 75,
     "metadata": {},
     "output_type": "execute_result"
    }
   ],
   "source": [
    "glue_catalog.list_namespaces()"
   ]
  },
  {
   "cell_type": "code",
   "execution_count": 76,
   "id": "048c0048",
   "metadata": {},
   "outputs": [
    {
     "data": {
      "text/plain": [
       "[('db_ice', 'tb_controle_imagem'),\n",
       " ('db_ice', 'tb_controle_ingestao'),\n",
       " ('db_ice', 'tb_imagem'),\n",
       " ('db_ice', 'tb_poligono')]"
      ]
     },
     "execution_count": 76,
     "metadata": {},
     "output_type": "execute_result"
    }
   ],
   "source": [
    "glue_catalog.list_tables(DATABASE)"
   ]
  },
  {
   "cell_type": "code",
   "execution_count": 77,
   "id": "cc2c46c8",
   "metadata": {},
   "outputs": [],
   "source": [
    "# table = glue_catalog.load_table(\"base.loan_2018\")\n",
    "table = glue_catalog.load_table((DATABASE, TB_INGESTAO))"
   ]
  },
  {
   "cell_type": "markdown",
   "id": "f92ef8c7",
   "metadata": {},
   "source": [
    "## Insert data"
   ]
  },
  {
   "cell_type": "code",
   "execution_count": 80,
   "id": "00d662d7",
   "metadata": {},
   "outputs": [],
   "source": [
    "class RecordNotFoundError(Exception):\n",
    "    \"\"\"Exception raised when a record does not exist in the table.\"\"\"\n",
    "    pass\n",
    "\n",
    "class PrimaryKeyDuplicatedError(Exception):\n",
    "    \"\"\"Exception raised when a record is duplicated in the table.\"\"\"\n",
    "    pass"
   ]
  },
  {
   "cell_type": "code",
   "execution_count": 81,
   "id": "66cd35f6",
   "metadata": {},
   "outputs": [],
   "source": [
    "class Record(ABC):\n",
    "\n",
    "    def to_dict(self) -> dict:\n",
    "        return asdict(self)"
   ]
  },
  {
   "cell_type": "code",
   "execution_count": 82,
   "id": "970b2472",
   "metadata": {},
   "outputs": [],
   "source": [
    "@dataclass\n",
    "class ControleIngestao(Record):\n",
    "    id_poligono: str\n",
    "    data_penultima_ingestao: str\n",
    "    data_ultima_ingestao: str\n",
    "\n",
    "\n",
    "@dataclass\n",
    "class ControleImagem(Record):\n",
    "    id_poligono: str\n",
    "    poligono: str\n",
    "    area_poligono: str\n",
    "    caminho_s3: str\n",
    "\n",
    "\n",
    "@dataclass\n",
    "class Imagem(Record):\n",
    "    id_poligono: str\n",
    "    data_imagem: str\n",
    "    no_data: float\n",
    "    saturated_or_defective: float\n",
    "    dark_area_pixels: float\n",
    "    cloud_shadows: float\n",
    "    vegetation: float\n",
    "    bare_soils: float\n",
    "    water: float\n",
    "    clouds_low_probability_or_unclassified: float\n",
    "    clouds_medium_probability: float\n",
    "    clouds_high_probability: float\n",
    "    thin_cirrus: float\n",
    "    snow_or_ice: float"
   ]
  },
  {
   "cell_type": "code",
   "execution_count": 83,
   "id": "f516e312",
   "metadata": {},
   "outputs": [],
   "source": [
    "class PATable(ABC):\n",
    "\n",
    "    @property\n",
    "    @abstractmethod\n",
    "    def schema(self):\n",
    "        pass\n",
    "\n",
    "    def __init__(self) -> None:\n",
    "        self.values: list[dict] = []\n",
    "\n",
    "    def check_unique_id(self, record_id: str) -> None:\n",
    "        ids = [record['id_poligono'] for record in self.values]\n",
    "        if record_id in ids:\n",
    "            raise PrimaryKeyDuplicatedError(f\"Record with id '{record_id}' already exists.\")\n",
    "\n",
    "    def add_record(self, record: Record) -> None:\n",
    "        record_dict = record.to_dict()\n",
    "        # self.check_unique_id(record_id=record_dict['id_poligono'])\n",
    "        self.values.append(record_dict)\n",
    "\n",
    "    def add_dataframe(self, df: pd.DataFrame) -> None:\n",
    "        for item in df.to_dict(orient=\"index\").values():\n",
    "            self.values.append(item)\n",
    "\n",
    "    def clear(self) -> None:\n",
    "        self.values = []\n",
    "\n",
    "    def to_pyarrow_table(self) -> pa.Table:\n",
    "        return pa.Table.from_pylist(\n",
    "            self.values,\n",
    "            schema=self.schema\n",
    "        )\n"
   ]
  },
  {
   "cell_type": "code",
   "execution_count": 84,
   "id": "3df15aba",
   "metadata": {},
   "outputs": [],
   "source": [
    "class PATableControleIngestao(PATable):\n",
    "\n",
    "    schema: pa.schema = pa.schema([\n",
    "        pa.field(\"id_poligono\", pa.string(), nullable=False),\n",
    "        pa.field(\"data_penultima_ingestao\", pa.string(), nullable=True),\n",
    "        pa.field(\"data_ultima_ingestao\", pa.string(), nullable=False),\n",
    "    ])\n",
    "\n",
    "\n",
    "class PATableControleImagem(PATable):\n",
    "    schema: pa.schema = pa.schema([\n",
    "        pa.field(\"id_poligono\", pa.string(), nullable=False),\n",
    "        pa.field(\"poligono\", pa.string(), nullable=False),\n",
    "        pa.field(\"area_poligono\", pa.string(), nullable=True),\n",
    "        pa.field(\"caminho_s3\", pa.string(), nullable=True),\n",
    "    ])\n",
    "\n",
    "\n",
    "class PATableImagem(PATable):\n",
    "    schema: pa.schema = pa.schema([\n",
    "        pa.field(\"id_poligono\", pa.string(), nullable=False),\n",
    "        pa.field(\"data_imagem\", pa.string(), nullable=False),\n",
    "        pa.field(\"no_data\", pa.float32(), nullable=True),\n",
    "        pa.field(\"saturated_or_defective\", pa.float32(), nullable=True),\n",
    "        pa.field(\"dark_area_pixels\", pa.float32(), nullable=True),\n",
    "        pa.field(\"cloud_shadows\", pa.float32(), nullable=True),\n",
    "        pa.field(\"vegetation\", pa.float32(), nullable=True),\n",
    "        pa.field(\"bare_soils\", pa.float32(), nullable=True),\n",
    "        pa.field(\"water\", pa.float32(), nullable=True),\n",
    "        pa.field(\"clouds_low_probability_or_unclassified\", pa.float32(), nullable=True),\n",
    "        pa.field(\"clouds_medium_probability\", pa.float32(), nullable=True),\n",
    "        pa.field(\"clouds_high_probability\", pa.float32(), nullable=True),\n",
    "        pa.field(\"thin_cirrus\", pa.float32(), nullable=True),\n",
    "        pa.field(\"snow_or_ice\", pa.float32(), nullable=True),\n",
    "    ])\n"
   ]
  },
  {
   "cell_type": "code",
   "execution_count": 85,
   "id": "9dcb4988",
   "metadata": {},
   "outputs": [],
   "source": [
    "class IcebergTable:\n",
    "\n",
    "    def __init__(self, table: Table, record_class: Record) -> None:\n",
    "        self.table = table\n",
    "        self.record_class = record_class\n",
    "\n",
    "    def load_record(self, record_id: int) -> DataScan:\n",
    "        return self.table.scan(row_filter=f\"id_poligono == '{record_id}'\")\n",
    "\n",
    "    def get_record(self, record_id: int) -> Record:\n",
    "        tb_arrow = self.load_record(record_id).to_arrow()\n",
    "        if tb_arrow.num_rows == 0:\n",
    "            raise RecordNotFoundError(f\"No record found with id '{record_id}'\")\n",
    "        if tb_arrow.num_rows > 1:\n",
    "            raise PrimaryKeyDuplicatedError(f\"Polygon Id duplicated with id '{record_id}'\")\n",
    "        return self.record_class(\n",
    "            **{\n",
    "                key: value[0] for key, value \n",
    "                in tb_arrow.to_pydict().items()\n",
    "            }\n",
    "        )\n",
    "\n",
    "    def upsert(self, pyarrow_table: PATable) -> None:\n",
    "        self.table.upsert(\n",
    "            df=pyarrow_table.to_pyarrow_table(),\n",
    "            join_cols=[\"id_poligono\"]\n",
    "        )\n",
    "\n",
    "    def append(self, pyarrow_table: PATable) -> None:\n",
    "        self.table.append(df=pyarrow_table.to_pyarrow_table())  \n",
    "\n",
    "    def record_exist(self, record_id: int) -> bool:\n",
    "        tb_arrow = self.load_record(record_id).to_arrow()\n",
    "        if tb_arrow.num_rows > 0:\n",
    "            return True\n",
    "        return False\n",
    "\n",
    "# table.delete(delete_filter=\"id == 3\")\n",
    "# table.refresh()"
   ]
  },
  {
   "cell_type": "code",
   "execution_count": 86,
   "id": "da87e404",
   "metadata": {},
   "outputs": [],
   "source": [
    "class IcebergFactory:\n",
    "\n",
    "    glue_catalog = load_catalog(\n",
    "        'default',\n",
    "        type='glue',\n",
    "        profile='default',\n",
    "        region_name='us-east-1',\n",
    "        client={\n",
    "            'region': 'us-east-1',\n",
    "        }\n",
    "    )\n",
    "\n",
    "    @classmethod\n",
    "    def load_iceberg_table(cls, database: str, table: str, record_class: Record) -> IcebergTable:\n",
    "        table = cls.glue_catalog.load_table((database, table))\n",
    "        return IcebergTable(table, record_class)"
   ]
  },
  {
   "cell_type": "code",
   "execution_count": 93,
   "id": "5dc093cd",
   "metadata": {},
   "outputs": [],
   "source": [
    "table = glue_catalog.load_table((DATABASE, TB_IMAGEM))"
   ]
  },
  {
   "cell_type": "code",
   "execution_count": 88,
   "id": "3d7789f1",
   "metadata": {},
   "outputs": [],
   "source": [
    "# table.name_mapping"
   ]
  },
  {
   "cell_type": "code",
   "execution_count": 94,
   "id": "994712fe",
   "metadata": {},
   "outputs": [],
   "source": [
    "table.delete(delete_filter=\"id_poligono == 'id_001'\")"
   ]
  },
  {
   "cell_type": "code",
   "execution_count": null,
   "id": "f84abbf3",
   "metadata": {},
   "outputs": [],
   "source": [
    "# table.scan().to_polars().head()"
   ]
  },
  {
   "cell_type": "code",
   "execution_count": 15,
   "id": "190923dd",
   "metadata": {},
   "outputs": [],
   "source": [
    "# icerberg_polygon = IcebergTable(table)"
   ]
  },
  {
   "cell_type": "markdown",
   "id": "954b862c",
   "metadata": {},
   "source": [
    "### Tabela Controle de Ingestão"
   ]
  },
  {
   "cell_type": "code",
   "execution_count": 16,
   "id": "c03c1c00",
   "metadata": {},
   "outputs": [],
   "source": [
    "icerberg_ingestao = IcebergFactory().load_iceberg_table(DATABASE, TB_INGESTAO, ControleIngestao)"
   ]
  },
  {
   "cell_type": "code",
   "execution_count": 17,
   "id": "b0dc5e48",
   "metadata": {},
   "outputs": [],
   "source": [
    "pa_table_ingestao = PATableControleIngestao()"
   ]
  },
  {
   "cell_type": "code",
   "execution_count": 22,
   "id": "cfa0a826",
   "metadata": {},
   "outputs": [
    {
     "ename": "RecordNotExistsError",
     "evalue": "No record found with id 'id_002'",
     "output_type": "error",
     "traceback": [
      "\u001b[0;31m---------------------------------------------------------------------------\u001b[0m",
      "\u001b[0;31mRecordNotExistsError\u001b[0m                      Traceback (most recent call last)",
      "Cell \u001b[0;32mIn[22], line 1\u001b[0m\n\u001b[0;32m----> 1\u001b[0m record \u001b[38;5;241m=\u001b[39m \u001b[43micerberg_ingestao\u001b[49m\u001b[38;5;241;43m.\u001b[39;49m\u001b[43mget_record\u001b[49m\u001b[43m(\u001b[49m\u001b[38;5;124;43m\"\u001b[39;49m\u001b[38;5;124;43mid_002\u001b[39;49m\u001b[38;5;124;43m\"\u001b[39;49m\u001b[43m)\u001b[49m\n",
      "Cell \u001b[0;32mIn[13], line 13\u001b[0m, in \u001b[0;36mIcebergTable.get_record\u001b[0;34m(self, record_id)\u001b[0m\n\u001b[1;32m     11\u001b[0m tb_arrow \u001b[38;5;241m=\u001b[39m \u001b[38;5;28mself\u001b[39m\u001b[38;5;241m.\u001b[39mload_record(record_id)\u001b[38;5;241m.\u001b[39mto_arrow()\n\u001b[1;32m     12\u001b[0m \u001b[38;5;28;01mif\u001b[39;00m tb_arrow\u001b[38;5;241m.\u001b[39mnum_rows \u001b[38;5;241m==\u001b[39m \u001b[38;5;241m0\u001b[39m:\n\u001b[0;32m---> 13\u001b[0m     \u001b[38;5;28;01mraise\u001b[39;00m RecordNotExistsError(\u001b[38;5;124mf\u001b[39m\u001b[38;5;124m\"\u001b[39m\u001b[38;5;124mNo record found with id \u001b[39m\u001b[38;5;124m'\u001b[39m\u001b[38;5;132;01m{\u001b[39;00mrecord_id\u001b[38;5;132;01m}\u001b[39;00m\u001b[38;5;124m'\u001b[39m\u001b[38;5;124m\"\u001b[39m)\n\u001b[1;32m     14\u001b[0m \u001b[38;5;28;01mif\u001b[39;00m tb_arrow\u001b[38;5;241m.\u001b[39mnum_rows \u001b[38;5;241m>\u001b[39m \u001b[38;5;241m1\u001b[39m:\n\u001b[1;32m     15\u001b[0m     \u001b[38;5;28;01mraise\u001b[39;00m PrimaryKeyDuplicatedError(\u001b[38;5;124mf\u001b[39m\u001b[38;5;124m\"\u001b[39m\u001b[38;5;124mPolygon Id duplicated with id \u001b[39m\u001b[38;5;124m'\u001b[39m\u001b[38;5;132;01m{\u001b[39;00mrecord_id\u001b[38;5;132;01m}\u001b[39;00m\u001b[38;5;124m'\u001b[39m\u001b[38;5;124m\"\u001b[39m)\n",
      "\u001b[0;31mRecordNotExistsError\u001b[0m: No record found with id 'id_002'"
     ]
    }
   ],
   "source": [
    "record = icerberg_ingestao.get_record(\"id_002\")"
   ]
  },
  {
   "cell_type": "code",
   "execution_count": 21,
   "id": "cd748697",
   "metadata": {},
   "outputs": [
    {
     "data": {
      "text/plain": [
       "{'id_poligono': 'id_001',\n",
       " 'data_penultima_ingestao': None,\n",
       " 'data_ultima_ingestao': '2025-08-29T13:18:59.003000Z'}"
      ]
     },
     "execution_count": 21,
     "metadata": {},
     "output_type": "execute_result"
    }
   ],
   "source": [
    "record.to_dict()"
   ]
  },
  {
   "cell_type": "code",
   "execution_count": null,
   "id": "7b990925",
   "metadata": {},
   "outputs": [
    {
     "data": {
      "text/plain": [
       "'2023-06-22'"
      ]
     },
     "execution_count": 184,
     "metadata": {},
     "output_type": "execute_result"
    }
   ],
   "source": [
    "record.data_ultima_ingestao = \"2023-06-22\"\n",
    "record.to_dict()['data_ultima_ingestao']"
   ]
  },
  {
   "cell_type": "code",
   "execution_count": null,
   "id": "b7500fef",
   "metadata": {},
   "outputs": [
    {
     "data": {
      "text/html": [
       "<div>\n",
       "<style scoped>\n",
       "    .dataframe tbody tr th:only-of-type {\n",
       "        vertical-align: middle;\n",
       "    }\n",
       "\n",
       "    .dataframe tbody tr th {\n",
       "        vertical-align: top;\n",
       "    }\n",
       "\n",
       "    .dataframe thead th {\n",
       "        text-align: right;\n",
       "    }\n",
       "</style>\n",
       "<table border=\"1\" class=\"dataframe\">\n",
       "  <thead>\n",
       "    <tr style=\"text-align: right;\">\n",
       "      <th></th>\n",
       "      <th>id_poligono</th>\n",
       "      <th>poligono</th>\n",
       "      <th>data_plantio</th>\n",
       "      <th>anomesdia</th>\n",
       "    </tr>\n",
       "  </thead>\n",
       "  <tbody>\n",
       "    <tr>\n",
       "      <th>0</th>\n",
       "      <td>id_001</td>\n",
       "      <td>POLYGON ((-46.556983701 -23.612093836, -46.556...</td>\n",
       "      <td>2023-06-22</td>\n",
       "      <td>20250810</td>\n",
       "    </tr>\n",
       "  </tbody>\n",
       "</table>\n",
       "</div>"
      ],
      "text/plain": [
       "  id_poligono                                           poligono data_plantio  \\\n",
       "0      id_001  POLYGON ((-46.556983701 -23.612093836, -46.556...   2023-06-22   \n",
       "\n",
       "   anomesdia  \n",
       "0   20250810  "
      ]
     },
     "execution_count": 185,
     "metadata": {},
     "output_type": "execute_result"
    }
   ],
   "source": [
    "pa_table_ingestao.add_record(record)\n",
    "pa_table_ingestao.to_pyarrow_table().to_pandas()"
   ]
  },
  {
   "cell_type": "code",
   "execution_count": null,
   "id": "f9a3ee1f",
   "metadata": {},
   "outputs": [],
   "source": [
    "# pa_table_ingestao.add_record(record)\n",
    "# pa_table_ingestao.to_pyarrow_table().to_pandas()"
   ]
  },
  {
   "cell_type": "code",
   "execution_count": null,
   "id": "8fec2d57",
   "metadata": {},
   "outputs": [],
   "source": [
    "# pa_table_ingestao.clear()\n",
    "# pa_table_ingestao.to_pyarrow_table().to_pandas()"
   ]
  },
  {
   "cell_type": "code",
   "execution_count": 20,
   "id": "cf33f582",
   "metadata": {},
   "outputs": [
    {
     "data": {
      "text/html": [
       "<div>\n",
       "<style scoped>\n",
       "    .dataframe tbody tr th:only-of-type {\n",
       "        vertical-align: middle;\n",
       "    }\n",
       "\n",
       "    .dataframe tbody tr th {\n",
       "        vertical-align: top;\n",
       "    }\n",
       "\n",
       "    .dataframe thead th {\n",
       "        text-align: right;\n",
       "    }\n",
       "</style>\n",
       "<table border=\"1\" class=\"dataframe\">\n",
       "  <thead>\n",
       "    <tr style=\"text-align: right;\">\n",
       "      <th></th>\n",
       "      <th>id_poligono</th>\n",
       "      <th>data_penultima_ingestao</th>\n",
       "      <th>data_ultima_ingestao</th>\n",
       "    </tr>\n",
       "  </thead>\n",
       "  <tbody>\n",
       "    <tr>\n",
       "      <th>0</th>\n",
       "      <td>id_001</td>\n",
       "      <td>None</td>\n",
       "      <td>2025-08-29</td>\n",
       "    </tr>\n",
       "  </tbody>\n",
       "</table>\n",
       "</div>"
      ],
      "text/plain": [
       "  id_poligono data_penultima_ingestao data_ultima_ingestao\n",
       "0      id_001                    None           2025-08-29"
      ]
     },
     "execution_count": 20,
     "metadata": {},
     "output_type": "execute_result"
    }
   ],
   "source": [
    "record_1 = ControleIngestao(\"id_001\", None, \"2025-08-29\")\n",
    "pa_table_ingestao.add_record(record_1)\n",
    "pa_table_ingestao.to_pyarrow_table().to_pandas()"
   ]
  },
  {
   "cell_type": "code",
   "execution_count": 30,
   "id": "a026fc7c",
   "metadata": {},
   "outputs": [
    {
     "data": {
      "text/html": [
       "<div>\n",
       "<style scoped>\n",
       "    .dataframe tbody tr th:only-of-type {\n",
       "        vertical-align: middle;\n",
       "    }\n",
       "\n",
       "    .dataframe tbody tr th {\n",
       "        vertical-align: top;\n",
       "    }\n",
       "\n",
       "    .dataframe thead th {\n",
       "        text-align: right;\n",
       "    }\n",
       "</style>\n",
       "<table border=\"1\" class=\"dataframe\">\n",
       "  <thead>\n",
       "    <tr style=\"text-align: right;\">\n",
       "      <th></th>\n",
       "      <th>id_poligono</th>\n",
       "      <th>data_penultima_ingestao</th>\n",
       "      <th>data_ultima_ingestao</th>\n",
       "    </tr>\n",
       "  </thead>\n",
       "  <tbody>\n",
       "  </tbody>\n",
       "</table>\n",
       "</div>"
      ],
      "text/plain": [
       "Empty DataFrame\n",
       "Columns: [id_poligono, data_penultima_ingestao, data_ultima_ingestao]\n",
       "Index: []"
      ]
     },
     "execution_count": 30,
     "metadata": {},
     "output_type": "execute_result"
    }
   ],
   "source": [
    "pa_table_ingestao.to_pyarrow_table().to_pandas()"
   ]
  },
  {
   "cell_type": "code",
   "execution_count": 31,
   "id": "3bbc74c1",
   "metadata": {},
   "outputs": [
    {
     "data": {
      "text/plain": [
       "ControleIngestao(id_poligono='id_001', data_penultima_ingestao=None, data_ultima_ingestao='2025-08-29T13:18:59.003000Z')"
      ]
     },
     "execution_count": 31,
     "metadata": {},
     "output_type": "execute_result"
    }
   ],
   "source": [
    "record_1_dict = {\n",
    "    \"id_poligono\": \"id_001\",\n",
    "    \"data_penultima_ingestao\": None,\n",
    "    \"data_ultima_ingestao\": \"2025-08-29T13:18:59.003000Z\"\n",
    "}\n",
    "record_2 = ControleIngestao(**record_1_dict)\n",
    "record_2"
   ]
  },
  {
   "cell_type": "code",
   "execution_count": 32,
   "id": "90efc4a4",
   "metadata": {},
   "outputs": [
    {
     "data": {
      "text/html": [
       "<div>\n",
       "<style scoped>\n",
       "    .dataframe tbody tr th:only-of-type {\n",
       "        vertical-align: middle;\n",
       "    }\n",
       "\n",
       "    .dataframe tbody tr th {\n",
       "        vertical-align: top;\n",
       "    }\n",
       "\n",
       "    .dataframe thead th {\n",
       "        text-align: right;\n",
       "    }\n",
       "</style>\n",
       "<table border=\"1\" class=\"dataframe\">\n",
       "  <thead>\n",
       "    <tr style=\"text-align: right;\">\n",
       "      <th></th>\n",
       "      <th>id_poligono</th>\n",
       "      <th>data_penultima_ingestao</th>\n",
       "      <th>data_ultima_ingestao</th>\n",
       "    </tr>\n",
       "  </thead>\n",
       "  <tbody>\n",
       "    <tr>\n",
       "      <th>0</th>\n",
       "      <td>id_001</td>\n",
       "      <td>None</td>\n",
       "      <td>2025-08-29T13:18:59.003000Z</td>\n",
       "    </tr>\n",
       "  </tbody>\n",
       "</table>\n",
       "</div>"
      ],
      "text/plain": [
       "  id_poligono data_penultima_ingestao         data_ultima_ingestao\n",
       "0      id_001                    None  2025-08-29T13:18:59.003000Z"
      ]
     },
     "execution_count": 32,
     "metadata": {},
     "output_type": "execute_result"
    }
   ],
   "source": [
    "pa_table_ingestao.add_record(record_2)\n",
    "pa_table_ingestao.to_pyarrow_table().to_pandas()"
   ]
  },
  {
   "cell_type": "code",
   "execution_count": 33,
   "id": "ba8cd9c2",
   "metadata": {},
   "outputs": [],
   "source": [
    "icerberg_ingestao.upsert(pa_table_ingestao)"
   ]
  },
  {
   "cell_type": "markdown",
   "id": "06b2e63a",
   "metadata": {},
   "source": [
    "### Tabela Controle de Imagem"
   ]
  },
  {
   "cell_type": "code",
   "execution_count": null,
   "id": "4a77a037",
   "metadata": {},
   "outputs": [],
   "source": [
    "icerberg_controle_imagem = IcebergFactory().load_iceberg_table(DATABASE, TB_CONTROLE_IMAGEM, ControleImagem)"
   ]
  },
  {
   "cell_type": "code",
   "execution_count": 34,
   "id": "335760c7",
   "metadata": {},
   "outputs": [],
   "source": [
    "pa_table_imagem = PATableControleImagem()"
   ]
  },
  {
   "cell_type": "code",
   "execution_count": 35,
   "id": "0be3425f",
   "metadata": {},
   "outputs": [
    {
     "data": {
      "text/html": [
       "<div>\n",
       "<style scoped>\n",
       "    .dataframe tbody tr th:only-of-type {\n",
       "        vertical-align: middle;\n",
       "    }\n",
       "\n",
       "    .dataframe tbody tr th {\n",
       "        vertical-align: top;\n",
       "    }\n",
       "\n",
       "    .dataframe thead th {\n",
       "        text-align: right;\n",
       "    }\n",
       "</style>\n",
       "<table border=\"1\" class=\"dataframe\">\n",
       "  <thead>\n",
       "    <tr style=\"text-align: right;\">\n",
       "      <th></th>\n",
       "      <th>id_poligono</th>\n",
       "      <th>poligono</th>\n",
       "      <th>area_poligono</th>\n",
       "      <th>caminho_s3</th>\n",
       "    </tr>\n",
       "  </thead>\n",
       "  <tbody>\n",
       "  </tbody>\n",
       "</table>\n",
       "</div>"
      ],
      "text/plain": [
       "Empty DataFrame\n",
       "Columns: [id_poligono, poligono, area_poligono, caminho_s3]\n",
       "Index: []"
      ]
     },
     "execution_count": 35,
     "metadata": {},
     "output_type": "execute_result"
    }
   ],
   "source": [
    "pa_table_imagem.to_pyarrow_table().to_pandas()"
   ]
  },
  {
   "cell_type": "code",
   "execution_count": 36,
   "id": "934ce121",
   "metadata": {},
   "outputs": [
    {
     "data": {
      "text/plain": [
       "pyarrow.Table\n",
       "id_poligono: string not null\n",
       "poligono: string not null\n",
       "area_poligono: string\n",
       "caminho_s3: string\n",
       "----\n",
       "id_poligono: [[]]\n",
       "poligono: [[]]\n",
       "area_poligono: [[]]\n",
       "caminho_s3: [[]]"
      ]
     },
     "execution_count": 36,
     "metadata": {},
     "output_type": "execute_result"
    }
   ],
   "source": [
    "pa_table_imagem.to_pyarrow_table()"
   ]
  },
  {
   "cell_type": "code",
   "execution_count": null,
   "id": "15fa65f7",
   "metadata": {},
   "outputs": [
    {
     "ename": "RecordNotExistsError",
     "evalue": "No record found with id 'id_001'",
     "output_type": "error",
     "traceback": [
      "\u001b[0;31m---------------------------------------------------------------------------\u001b[0m",
      "\u001b[0;31mRecordNotExistsError\u001b[0m                      Traceback (most recent call last)",
      "Cell \u001b[0;32mIn[42], line 1\u001b[0m\n\u001b[0;32m----> 1\u001b[0m \u001b[43micerberg_imagem\u001b[49m\u001b[38;5;241;43m.\u001b[39;49m\u001b[43mget_record\u001b[49m\u001b[43m(\u001b[49m\u001b[38;5;124;43m\"\u001b[39;49m\u001b[38;5;124;43mid_001\u001b[39;49m\u001b[38;5;124;43m\"\u001b[39;49m\u001b[43m)\u001b[49m\n",
      "Cell \u001b[0;32mIn[30], line 13\u001b[0m, in \u001b[0;36mIcebergTable.get_record\u001b[0;34m(self, record_id)\u001b[0m\n\u001b[1;32m     11\u001b[0m tb_arrow \u001b[38;5;241m=\u001b[39m \u001b[38;5;28mself\u001b[39m\u001b[38;5;241m.\u001b[39mload_record(record_id)\u001b[38;5;241m.\u001b[39mto_arrow()\n\u001b[1;32m     12\u001b[0m \u001b[38;5;28;01mif\u001b[39;00m tb_arrow\u001b[38;5;241m.\u001b[39mnum_rows \u001b[38;5;241m==\u001b[39m \u001b[38;5;241m0\u001b[39m:\n\u001b[0;32m---> 13\u001b[0m     \u001b[38;5;28;01mraise\u001b[39;00m RecordNotExistsError(\u001b[38;5;124mf\u001b[39m\u001b[38;5;124m\"\u001b[39m\u001b[38;5;124mNo record found with id \u001b[39m\u001b[38;5;124m'\u001b[39m\u001b[38;5;132;01m{\u001b[39;00mrecord_id\u001b[38;5;132;01m}\u001b[39;00m\u001b[38;5;124m'\u001b[39m\u001b[38;5;124m\"\u001b[39m)\n\u001b[1;32m     14\u001b[0m \u001b[38;5;28;01mif\u001b[39;00m tb_arrow\u001b[38;5;241m.\u001b[39mnum_rows \u001b[38;5;241m>\u001b[39m \u001b[38;5;241m1\u001b[39m:\n\u001b[1;32m     15\u001b[0m     \u001b[38;5;28;01mraise\u001b[39;00m PrimaryKeyDuplicatedError(\u001b[38;5;124mf\u001b[39m\u001b[38;5;124m\"\u001b[39m\u001b[38;5;124mPolygon Id duplicated with id \u001b[39m\u001b[38;5;124m'\u001b[39m\u001b[38;5;132;01m{\u001b[39;00mrecord_id\u001b[38;5;132;01m}\u001b[39;00m\u001b[38;5;124m'\u001b[39m\u001b[38;5;124m\"\u001b[39m)\n",
      "\u001b[0;31mRecordNotExistsError\u001b[0m: No record found with id 'id_001'"
     ]
    }
   ],
   "source": [
    "icerberg_controle_imagem.get_record(\"id_001\")"
   ]
  },
  {
   "cell_type": "code",
   "execution_count": null,
   "id": "9565f08b",
   "metadata": {},
   "outputs": [
    {
     "data": {
      "text/plain": [
       "__main__.ControleImagem"
      ]
     },
     "execution_count": 39,
     "metadata": {},
     "output_type": "execute_result"
    }
   ],
   "source": [
    "type(icerberg_controle_imagem.get_record(\"id_101\"))"
   ]
  },
  {
   "cell_type": "markdown",
   "id": "6ae7094d",
   "metadata": {},
   "source": [
    "### Tabela de Imagens"
   ]
  },
  {
   "cell_type": "code",
   "execution_count": 52,
   "id": "7e4e9969",
   "metadata": {},
   "outputs": [],
   "source": [
    "icerberg_imagem = IcebergFactory().load_iceberg_table(DATABASE, TB_IMAGEM, Imagem)"
   ]
  },
  {
   "cell_type": "code",
   "execution_count": 53,
   "id": "b932d2c2",
   "metadata": {},
   "outputs": [],
   "source": [
    "pa_table_imagem = PATableImagem()"
   ]
  },
  {
   "cell_type": "code",
   "execution_count": 54,
   "id": "81d39433",
   "metadata": {},
   "outputs": [
    {
     "data": {
      "text/html": [
       "<div>\n",
       "<style scoped>\n",
       "    .dataframe tbody tr th:only-of-type {\n",
       "        vertical-align: middle;\n",
       "    }\n",
       "\n",
       "    .dataframe tbody tr th {\n",
       "        vertical-align: top;\n",
       "    }\n",
       "\n",
       "    .dataframe thead th {\n",
       "        text-align: right;\n",
       "    }\n",
       "</style>\n",
       "<table border=\"1\" class=\"dataframe\">\n",
       "  <thead>\n",
       "    <tr style=\"text-align: right;\">\n",
       "      <th></th>\n",
       "      <th>id_poligono</th>\n",
       "      <th>data_imagem</th>\n",
       "      <th>no_data</th>\n",
       "      <th>saturated_or_defective</th>\n",
       "      <th>dark_area_pixels</th>\n",
       "      <th>cloud_shadows</th>\n",
       "      <th>vegetation</th>\n",
       "      <th>bare_soils</th>\n",
       "      <th>water</th>\n",
       "      <th>clouds_low_probability_or_unclassified</th>\n",
       "      <th>clouds_medium_probability</th>\n",
       "      <th>clouds_high_probability</th>\n",
       "      <th>thin_cirrus</th>\n",
       "      <th>snow_or_ice</th>\n",
       "    </tr>\n",
       "  </thead>\n",
       "  <tbody>\n",
       "  </tbody>\n",
       "</table>\n",
       "</div>"
      ],
      "text/plain": [
       "Empty DataFrame\n",
       "Columns: [id_poligono, data_imagem, no_data, saturated_or_defective, dark_area_pixels, cloud_shadows, vegetation, bare_soils, water, clouds_low_probability_or_unclassified, clouds_medium_probability, clouds_high_probability, thin_cirrus, snow_or_ice]\n",
       "Index: []"
      ]
     },
     "execution_count": 54,
     "metadata": {},
     "output_type": "execute_result"
    }
   ],
   "source": [
    "pa_table_imagem.to_pyarrow_table().to_pandas()"
   ]
  },
  {
   "cell_type": "code",
   "execution_count": 59,
   "id": "aae3e832",
   "metadata": {},
   "outputs": [
    {
     "data": {
      "text/plain": [
       "Imagem(id_poligono='id_001', data_imagem='2025-09-02T13:18:59.003000Z', no_data=0.01, saturated_or_defective=0.01, dark_area_pixels=0.01, cloud_shadows=0.01, vegetation=0.01, bare_soils=0.01, water=0.01, clouds_low_probability_or_unclassified=0.01, clouds_medium_probability=0.01, clouds_high_probability=0.01, thin_cirrus=0.01, snow_or_ice=0.01)"
      ]
     },
     "execution_count": 59,
     "metadata": {},
     "output_type": "execute_result"
    }
   ],
   "source": [
    "record_1_dict = {\n",
    "    \"id_poligono\": \"id_001\",\n",
    "    \"data_imagem\": \"2025-09-02T13:18:59.003000Z\",\n",
    "    \"no_data\": 0.01,\n",
    "    \"saturated_or_defective\": 0.01,\n",
    "    \"dark_area_pixels\": 0.01,\n",
    "    \"cloud_shadows\": 0.01,\n",
    "    \"vegetation\": 0.01,\n",
    "    \"bare_soils\": 0.01,\n",
    "    \"water\": 0.01,\n",
    "    \"clouds_low_probability_or_unclassified\": 0.01,\n",
    "    \"clouds_medium_probability\": 0.01,\n",
    "    \"clouds_high_probability\": 0.01,\n",
    "    \"thin_cirrus\": 0.01,\n",
    "    \"snow_or_ice\": 0.01,\n",
    "}\n",
    "record_1 = Imagem(**record_1_dict)\n",
    "record_1"
   ]
  },
  {
   "cell_type": "code",
   "execution_count": 60,
   "id": "64ad927f",
   "metadata": {},
   "outputs": [],
   "source": [
    "pa_table_imagem.add_record(record_1)"
   ]
  },
  {
   "cell_type": "code",
   "execution_count": 61,
   "id": "d0025780",
   "metadata": {},
   "outputs": [
    {
     "data": {
      "text/html": [
       "<div>\n",
       "<style scoped>\n",
       "    .dataframe tbody tr th:only-of-type {\n",
       "        vertical-align: middle;\n",
       "    }\n",
       "\n",
       "    .dataframe tbody tr th {\n",
       "        vertical-align: top;\n",
       "    }\n",
       "\n",
       "    .dataframe thead th {\n",
       "        text-align: right;\n",
       "    }\n",
       "</style>\n",
       "<table border=\"1\" class=\"dataframe\">\n",
       "  <thead>\n",
       "    <tr style=\"text-align: right;\">\n",
       "      <th></th>\n",
       "      <th>id_poligono</th>\n",
       "      <th>data_imagem</th>\n",
       "      <th>no_data</th>\n",
       "      <th>saturated_or_defective</th>\n",
       "      <th>dark_area_pixels</th>\n",
       "      <th>cloud_shadows</th>\n",
       "      <th>vegetation</th>\n",
       "      <th>bare_soils</th>\n",
       "      <th>water</th>\n",
       "      <th>clouds_low_probability_or_unclassified</th>\n",
       "      <th>clouds_medium_probability</th>\n",
       "      <th>clouds_high_probability</th>\n",
       "      <th>thin_cirrus</th>\n",
       "      <th>snow_or_ice</th>\n",
       "    </tr>\n",
       "  </thead>\n",
       "  <tbody>\n",
       "    <tr>\n",
       "      <th>0</th>\n",
       "      <td>id_001</td>\n",
       "      <td>2025-09-01T13:18:59.003000Z</td>\n",
       "      <td>0.01</td>\n",
       "      <td>0.01</td>\n",
       "      <td>0.01</td>\n",
       "      <td>0.01</td>\n",
       "      <td>0.01</td>\n",
       "      <td>0.01</td>\n",
       "      <td>0.01</td>\n",
       "      <td>0.01</td>\n",
       "      <td>0.01</td>\n",
       "      <td>0.01</td>\n",
       "      <td>0.01</td>\n",
       "      <td>0.01</td>\n",
       "    </tr>\n",
       "    <tr>\n",
       "      <th>1</th>\n",
       "      <td>id_001</td>\n",
       "      <td>2025-09-02T13:18:59.003000Z</td>\n",
       "      <td>0.01</td>\n",
       "      <td>0.01</td>\n",
       "      <td>0.01</td>\n",
       "      <td>0.01</td>\n",
       "      <td>0.01</td>\n",
       "      <td>0.01</td>\n",
       "      <td>0.01</td>\n",
       "      <td>0.01</td>\n",
       "      <td>0.01</td>\n",
       "      <td>0.01</td>\n",
       "      <td>0.01</td>\n",
       "      <td>0.01</td>\n",
       "    </tr>\n",
       "  </tbody>\n",
       "</table>\n",
       "</div>"
      ],
      "text/plain": [
       "  id_poligono                  data_imagem  no_data  saturated_or_defective  \\\n",
       "0      id_001  2025-09-01T13:18:59.003000Z     0.01                    0.01   \n",
       "1      id_001  2025-09-02T13:18:59.003000Z     0.01                    0.01   \n",
       "\n",
       "   dark_area_pixels  cloud_shadows  vegetation  bare_soils  water  \\\n",
       "0              0.01           0.01        0.01        0.01   0.01   \n",
       "1              0.01           0.01        0.01        0.01   0.01   \n",
       "\n",
       "   clouds_low_probability_or_unclassified  clouds_medium_probability  \\\n",
       "0                                    0.01                       0.01   \n",
       "1                                    0.01                       0.01   \n",
       "\n",
       "   clouds_high_probability  thin_cirrus  snow_or_ice  \n",
       "0                     0.01         0.01         0.01  \n",
       "1                     0.01         0.01         0.01  "
      ]
     },
     "execution_count": 61,
     "metadata": {},
     "output_type": "execute_result"
    }
   ],
   "source": [
    "pa_table_imagem.to_pyarrow_table().to_pandas()"
   ]
  },
  {
   "cell_type": "code",
   "execution_count": 64,
   "id": "53e26ef1",
   "metadata": {},
   "outputs": [],
   "source": [
    "icerberg_imagem.append(pa_table_imagem)"
   ]
  },
  {
   "cell_type": "code",
   "execution_count": 63,
   "id": "8c7b0d15",
   "metadata": {},
   "outputs": [
    {
     "ename": "ValueError",
     "evalue": "Duplicate rows found in source dataset based on the key columns. No upsert executed",
     "output_type": "error",
     "traceback": [
      "\u001b[0;31m---------------------------------------------------------------------------\u001b[0m",
      "\u001b[0;31mValueError\u001b[0m                                Traceback (most recent call last)",
      "Cell \u001b[0;32mIn[63], line 1\u001b[0m\n\u001b[0;32m----> 1\u001b[0m \u001b[43micerberg_imagem\u001b[49m\u001b[38;5;241;43m.\u001b[39;49m\u001b[43mupsert\u001b[49m\u001b[43m(\u001b[49m\u001b[43mpa_table_imagem\u001b[49m\u001b[43m)\u001b[49m\n",
      "Cell \u001b[0;32mIn[50], line 24\u001b[0m, in \u001b[0;36mIcebergTable.upsert\u001b[0;34m(self, pyarrow_table)\u001b[0m\n\u001b[1;32m     23\u001b[0m \u001b[38;5;28;01mdef\u001b[39;00m \u001b[38;5;21mupsert\u001b[39m(\u001b[38;5;28mself\u001b[39m, pyarrow_table: PATable) \u001b[38;5;241m-\u001b[39m\u001b[38;5;241m>\u001b[39m \u001b[38;5;28;01mNone\u001b[39;00m:\n\u001b[0;32m---> 24\u001b[0m     \u001b[38;5;28;43mself\u001b[39;49m\u001b[38;5;241;43m.\u001b[39;49m\u001b[43mtable\u001b[49m\u001b[38;5;241;43m.\u001b[39;49m\u001b[43mupsert\u001b[49m\u001b[43m(\u001b[49m\n\u001b[1;32m     25\u001b[0m \u001b[43m        \u001b[49m\u001b[43mdf\u001b[49m\u001b[38;5;241;43m=\u001b[39;49m\u001b[43mpyarrow_table\u001b[49m\u001b[38;5;241;43m.\u001b[39;49m\u001b[43mto_pyarrow_table\u001b[49m\u001b[43m(\u001b[49m\u001b[43m)\u001b[49m\u001b[43m,\u001b[49m\n\u001b[1;32m     26\u001b[0m \u001b[43m        \u001b[49m\u001b[43mjoin_cols\u001b[49m\u001b[38;5;241;43m=\u001b[39;49m\u001b[43m[\u001b[49m\u001b[38;5;124;43m\"\u001b[39;49m\u001b[38;5;124;43mid_poligono\u001b[39;49m\u001b[38;5;124;43m\"\u001b[39;49m\u001b[43m]\u001b[49m\n\u001b[1;32m     27\u001b[0m \u001b[43m    \u001b[49m\u001b[43m)\u001b[49m\n",
      "File \u001b[0;32m~/anaconda3/envs/itau/lib/python3.10/site-packages/pyiceberg/table/__init__.py:1176\u001b[0m, in \u001b[0;36mTable.upsert\u001b[0;34m(self, df, join_cols, when_matched_update_all, when_not_matched_insert_all, case_sensitive)\u001b[0m\n\u001b[1;32m   1173\u001b[0m     \u001b[38;5;28;01mraise\u001b[39;00m \u001b[38;5;167;01mValueError\u001b[39;00m(\u001b[38;5;124m\"\u001b[39m\u001b[38;5;124mno upsert options selected...exiting\u001b[39m\u001b[38;5;124m\"\u001b[39m)\n\u001b[1;32m   1175\u001b[0m \u001b[38;5;28;01mif\u001b[39;00m upsert_util\u001b[38;5;241m.\u001b[39mhas_duplicate_rows(df, join_cols):\n\u001b[0;32m-> 1176\u001b[0m     \u001b[38;5;28;01mraise\u001b[39;00m \u001b[38;5;167;01mValueError\u001b[39;00m(\u001b[38;5;124m\"\u001b[39m\u001b[38;5;124mDuplicate rows found in source dataset based on the key columns. No upsert executed\u001b[39m\u001b[38;5;124m\"\u001b[39m)\n\u001b[1;32m   1178\u001b[0m \u001b[38;5;28;01mfrom\u001b[39;00m \u001b[38;5;21;01mpyiceberg\u001b[39;00m\u001b[38;5;21;01m.\u001b[39;00m\u001b[38;5;21;01mio\u001b[39;00m\u001b[38;5;21;01m.\u001b[39;00m\u001b[38;5;21;01mpyarrow\u001b[39;00m \u001b[38;5;28;01mimport\u001b[39;00m _check_pyarrow_schema_compatible\n\u001b[1;32m   1180\u001b[0m downcast_ns_timestamp_to_us \u001b[38;5;241m=\u001b[39m Config()\u001b[38;5;241m.\u001b[39mget_bool(DOWNCAST_NS_TIMESTAMP_TO_US_ON_WRITE) \u001b[38;5;129;01mor\u001b[39;00m \u001b[38;5;28;01mFalse\u001b[39;00m\n",
      "\u001b[0;31mValueError\u001b[0m: Duplicate rows found in source dataset based on the key columns. No upsert executed"
     ]
    }
   ],
   "source": [
    "# icerberg_imagem.upsert(pa_table_imagem)"
   ]
  },
  {
   "cell_type": "code",
   "execution_count": null,
   "id": "ad290a5d",
   "metadata": {},
   "outputs": [],
   "source": [
    "# pa_table_imagem.clear()"
   ]
  },
  {
   "cell_type": "code",
   "execution_count": 51,
   "id": "af045668",
   "metadata": {},
   "outputs": [
    {
     "ename": "RecordNotExistsError",
     "evalue": "No record found with id 'id_001'",
     "output_type": "error",
     "traceback": [
      "\u001b[0;31m---------------------------------------------------------------------------\u001b[0m",
      "\u001b[0;31mRecordNotExistsError\u001b[0m                      Traceback (most recent call last)",
      "Cell \u001b[0;32mIn[51], line 1\u001b[0m\n\u001b[0;32m----> 1\u001b[0m \u001b[43micerberg_imagem\u001b[49m\u001b[38;5;241;43m.\u001b[39;49m\u001b[43mget_record\u001b[49m\u001b[43m(\u001b[49m\u001b[38;5;124;43m\"\u001b[39;49m\u001b[38;5;124;43mid_001\u001b[39;49m\u001b[38;5;124;43m\"\u001b[39;49m\u001b[43m)\u001b[49m\n",
      "Cell \u001b[0;32mIn[45], line 13\u001b[0m, in \u001b[0;36mIcebergTable.get_record\u001b[0;34m(self, record_id)\u001b[0m\n\u001b[1;32m     11\u001b[0m tb_arrow \u001b[38;5;241m=\u001b[39m \u001b[38;5;28mself\u001b[39m\u001b[38;5;241m.\u001b[39mload_record(record_id)\u001b[38;5;241m.\u001b[39mto_arrow()\n\u001b[1;32m     12\u001b[0m \u001b[38;5;28;01mif\u001b[39;00m tb_arrow\u001b[38;5;241m.\u001b[39mnum_rows \u001b[38;5;241m==\u001b[39m \u001b[38;5;241m0\u001b[39m:\n\u001b[0;32m---> 13\u001b[0m     \u001b[38;5;28;01mraise\u001b[39;00m RecordNotExistsError(\u001b[38;5;124mf\u001b[39m\u001b[38;5;124m\"\u001b[39m\u001b[38;5;124mNo record found with id \u001b[39m\u001b[38;5;124m'\u001b[39m\u001b[38;5;132;01m{\u001b[39;00mrecord_id\u001b[38;5;132;01m}\u001b[39;00m\u001b[38;5;124m'\u001b[39m\u001b[38;5;124m\"\u001b[39m)\n\u001b[1;32m     14\u001b[0m \u001b[38;5;28;01mif\u001b[39;00m tb_arrow\u001b[38;5;241m.\u001b[39mnum_rows \u001b[38;5;241m>\u001b[39m \u001b[38;5;241m1\u001b[39m:\n\u001b[1;32m     15\u001b[0m     \u001b[38;5;28;01mraise\u001b[39;00m PrimaryKeyDuplicatedError(\u001b[38;5;124mf\u001b[39m\u001b[38;5;124m\"\u001b[39m\u001b[38;5;124mPolygon Id duplicated with id \u001b[39m\u001b[38;5;124m'\u001b[39m\u001b[38;5;132;01m{\u001b[39;00mrecord_id\u001b[38;5;132;01m}\u001b[39;00m\u001b[38;5;124m'\u001b[39m\u001b[38;5;124m\"\u001b[39m)\n",
      "\u001b[0;31mRecordNotExistsError\u001b[0m: No record found with id 'id_001'"
     ]
    }
   ],
   "source": [
    "icerberg_imagem.get_record(\"id_001\")"
   ]
  },
  {
   "cell_type": "code",
   "execution_count": null,
   "id": "9fadd401",
   "metadata": {},
   "outputs": [],
   "source": []
  },
  {
   "cell_type": "code",
   "execution_count": null,
   "id": "fb6fc227",
   "metadata": {},
   "outputs": [],
   "source": []
  },
  {
   "cell_type": "code",
   "execution_count": null,
   "id": "51eb156a",
   "metadata": {},
   "outputs": [],
   "source": []
  }
 ],
 "metadata": {
  "kernelspec": {
   "display_name": "itau",
   "language": "python",
   "name": "python3"
  },
  "language_info": {
   "codemirror_mode": {
    "name": "ipython",
    "version": 3
   },
   "file_extension": ".py",
   "mimetype": "text/x-python",
   "name": "python",
   "nbconvert_exporter": "python",
   "pygments_lexer": "ipython3",
   "version": "3.10.14"
  }
 },
 "nbformat": 4,
 "nbformat_minor": 5
}
