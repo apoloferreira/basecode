{
 "cells": [
  {
   "cell_type": "code",
   "execution_count": 29,
   "id": "3de18c08",
   "metadata": {},
   "outputs": [],
   "source": [
    "import os\n",
    "import sys\n",
    "import boto3\n",
    "import logging\n",
    "import duckdb\n",
    "import polars as pl\n",
    "from functools import cache, lru_cache\n",
    "from pathlib import Path\n",
    "from abc import ABC, abstractmethod, ABCMeta\n",
    "from boto3.session import Session\n",
    "from botocore.exceptions import ClientError"
   ]
  },
  {
   "cell_type": "code",
   "execution_count": 5,
   "id": "3a9132d2",
   "metadata": {},
   "outputs": [],
   "source": [
    "logger = logging.getLogger(\"TableCatalog\")\n",
    "logger.setLevel(logging.DEBUG)\n",
    "formatter = logging.Formatter('%(asctime)s - %(name)s - %(levelname)s - %(message)s')\n",
    "handler = logging.StreamHandler(sys.stdout)\n",
    "handler.setLevel(logging.DEBUG)\n",
    "handler.setFormatter(formatter)\n",
    "logger.addHandler(handler)"
   ]
  },
  {
   "cell_type": "code",
   "execution_count": 6,
   "id": "e7e8228e",
   "metadata": {},
   "outputs": [],
   "source": [
    "client_glue = boto3.client(service_name=\"glue\")\n",
    "client_s3 = boto3.client(service_name=\"s3\")"
   ]
  },
  {
   "cell_type": "raw",
   "id": "e743dc8f",
   "metadata": {
    "vscode": {
     "languageId": "raw"
    }
   },
   "source": [
    "Table('base.transactions')\n",
    ">> s3://bucket-name/path/to/base/transactions/\n",
    "\n",
    "\n",
    "# Uso:\n",
    "\n",
    "df = pl.read_parquet(Table(\"base.nome\"))"
   ]
  },
  {
   "cell_type": "code",
   "execution_count": 7,
   "id": "c0f740b6",
   "metadata": {},
   "outputs": [],
   "source": [
    "class CatalogInterface:\n",
    "    \"\"\"\n",
    "    Classe singleton de interface para operações no catálogo de Glue.\n",
    "\n",
    "    Atributos:\n",
    "    _instance : CatalogInterface\n",
    "        Instância única da classe.\n",
    "    _client_glue : boto3.client\n",
    "        Cliente boto3 para o serviço AWS Glue.\n",
    "    _cache : dict[str, list]\n",
    "        Dicionário de cache para armazenar partições recuperadas.\n",
    "    \"\"\"\n",
    "\n",
    "    _instance = None\n",
    "    _client_glue = None\n",
    "    _cache: dict[str, list] = {}\n",
    "\n",
    "    def __new__(cls):\n",
    "        \"\"\"Inicializa a classe e garante que apenas uma instância seja criada.\"\"\"\n",
    "        if cls._instance is None:\n",
    "            cls._instance = super().__new__(cls)\n",
    "            cls._client_glue = cls.create_client(\"glue\")\n",
    "        return cls._instance\n",
    "\n",
    "    @classmethod\n",
    "    def create_client(cls, service: str) -> Session.client:\n",
    "        \"\"\"\n",
    "        Cria um cliente boto3 para o serviço AWS especificado.\n",
    "\n",
    "        :param service: Nome do serviço AWS.\n",
    "        :return: Um cliente boto3 para o serviço especificado.\n",
    "        \"\"\"\n",
    "        return boto3.client(service_name=service)\n",
    "\n",
    "    @classmethod\n",
    "    def get_client(cls) -> Session.client:\n",
    "        \"\"\"\n",
    "        Retorna o cliente boto3 do Glue se já existente ou criando-o se necessário.\n",
    "\n",
    "        :return: Cliente boto3 para o AWS Glue.\n",
    "        \"\"\"\n",
    "        if cls._client_glue is None:\n",
    "            cls._client_glue = cls.create_client(\"glue\")\n",
    "        return cls._client_glue\n",
    "\n",
    "    @classmethod\n",
    "    def get_partition(cls, database: str, table: str, partition: list) -> dict | None:\n",
    "        \"\"\"\n",
    "        Recupera uma partição específica do Catálogo do Glue.\n",
    "\n",
    "        :param database: Nome do banco de dados.\n",
    "        :param table: Nome da tabela.\n",
    "        :param partition: Os valores da partição.\n",
    "        :return: Os detalhes da partição se encontrada, caso contrário, None.\n",
    "        \"\"\"\n",
    "        client_glue = cls.get_client()\n",
    "        partition = list(map(str, partition))\n",
    "\n",
    "        try:\n",
    "            return client_glue.get_partition(\n",
    "                DatabaseName=database,\n",
    "                TableName=table,\n",
    "                PartitionValues=partition\n",
    "            )\n",
    "        except client_glue.exceptions.EntityNotFoundException:\n",
    "            logger.warning(f\"Partição {partition} não existe na tabela: {database}.{table}\")\n",
    "            return None\n",
    "\n",
    "    @classmethod\n",
    "    def get_all_partitions(cls, database: str, table: str, only_first_value: bool = True) -> list:\n",
    "        \"\"\"\n",
    "        Recupera todas as partições de uma tabela específica no Catálogo do Glue.\n",
    "\n",
    "        :param database: Nome do banco de dados.\n",
    "        :param table: Nome da tabela.\n",
    "        :param only_first_value: Se True, apenas o primeiro valor de cada partição é retornado.\n",
    "        :return: Uma lista das partições.\n",
    "        \"\"\"\n",
    "        client_glue = cls.get_client()\n",
    "\n",
    "        if f\"{database}.{table}\" in cls._cache:\n",
    "            if only_first_value:\n",
    "                return [item[0] for item in cls._cache[f\"{database}.{table}\"]]\n",
    "            return cls._cache[f\"{database}.{table}\"]\n",
    "\n",
    "        next_token = None\n",
    "        partitions = []\n",
    "        try:\n",
    "            while True:\n",
    "                response = client_glue.get_partitions(\n",
    "                    DatabaseName=database,\n",
    "                    TableName=table,\n",
    "                    MaxResults=500,\n",
    "                    ExcludeColumnSchema=True,\n",
    "                    NextToken=next_token\n",
    "                )\n",
    "                partitions += [item[\"Values\"] for item in sorted(\n",
    "                    response[\"Partitions\"],\n",
    "                    key=lambda x: x[\"Values\"][0],\n",
    "                    reverse=True)\n",
    "                ]\n",
    "                if \"NextToken\" not in response:\n",
    "                    break\n",
    "                next_token = response[\"NextToken\"]\n",
    "        except client_glue.exceptions.EntityNotFoundException:\n",
    "            logger.warning(f\"Erro ao buscar partições da tabela: {database}.{table}\")\n",
    "\n",
    "        cls._cache[f\"{database}.{table}\"] = partitions\n",
    "        return partitions\n",
    "\n",
    "    @classmethod\n",
    "    def create_partition(cls, database: str, table: str, partition: list, location: str) -> None:\n",
    "        \"\"\"\n",
    "        Cria uma nova partição no Catálogo do Glue.\n",
    "\n",
    "        :param database: Nome do banco de dados.\n",
    "        :param table: Nome da tabela.\n",
    "        :param partition: Os valores da partição.\n",
    "        :param location: O local dos dados da partição no S3.\n",
    "        \"\"\"\n",
    "        client_glue = cls.get_client()\n",
    "\n",
    "        if cls.get_partition(database, table, partition):\n",
    "            logger.warning(\"Partição já existe!\")\n",
    "            return\n",
    "\n",
    "        partition = list(map(str, partition))\n",
    "        try:\n",
    "            logger.debug(f\"Criando partição {partition} em {location}...\")\n",
    "            response = client_glue.create_partition(\n",
    "                DatabaseName=database,\n",
    "                TableName=table,\n",
    "                PartitionInput={\n",
    "                    \"Values\": partition,\n",
    "                    \"StorageDescriptor\": {\n",
    "                        \"Location\": location,\n",
    "                        \"InputFormat\": \"org.apache.hadoop.mapred.TextInputFormat\",\n",
    "                        \"OutputFormat\": \"org.apache.hadoop.hive.ql.io.HiveIgnoreKeyTextOutputFormat\",\n",
    "                        \"SerdeInfo\": {\n",
    "                            \"SerializationLibrary\": \"org.apache.hadoop.hive.ql.io.parquet.serde.ParquetHiveSerDe\",\n",
    "                            \"Parameters\": {\"serialization.format\": \"1\"}\n",
    "                        }\n",
    "                    }\n",
    "                }\n",
    "            )\n",
    "            if response[\"ResponseMetadata\"][\"HTTPStatusCode\"] == 200:\n",
    "                logger.debug(\"Criado partição com sucesso!\")\n",
    "        except Exception as e:\n",
    "            logger.error(f\"Erro ao criar partição {partition} para tabela {database}.{table}\")\n",
    "            logger.error(e)\n",
    "\n",
    "    @classmethod\n",
    "    def get_table_detail(cls, database: str, table: str) -> dict:\n",
    "        client_glue = cls.get_client()\n",
    "        try:\n",
    "            response = client_glue.get_table(\n",
    "                # CatalogId=\"\",\n",
    "                DatabaseName=database,\n",
    "                Name=table,\n",
    "                TransactionId='string',\n",
    "                IncludeStatusDetails=True\n",
    "            )\n",
    "        except client_glue.exceptions.EntityNotFoundException as err:\n",
    "            logger.error(\"\")\n",
    "            raise err\n",
    "        return response[\"Table\"]\n",
    "        # return {\n",
    "        #     'name': details['Name'],\n",
    "        #     'database': details['DatabaseName'],\n",
    "        #     'partitions': details['PartitionKeys'],\n",
    "        #     'table_type': details['TableType'],\n",
    "        #     'location': details['StorageDescriptor']['Location'],\n",
    "        #     'is_compressed': details['StorageDescriptor']['Compressed'],\n",
    "        #     'compression': details['Parameters'].get('compressionType'),\n",
    "        #     'classification': details['Parameters'].get('classification'),\n",
    "        # }"
   ]
  },
  {
   "cell_type": "code",
   "execution_count": 38,
   "id": "b466fdf4",
   "metadata": {},
   "outputs": [],
   "source": [
    "class MetaTable(type):\n",
    "\n",
    "    location_cache: dict = {}\n",
    "\n",
    "    def __new__(cls, *args, **kwargs):\n",
    "        return super().__new__(cls, *args, **kwargs)\n",
    "\n",
    "    @classmethod\n",
    "    @cache\n",
    "    def __call__(cls, name: str, full: bool = False) -> str:\n",
    "        try:\n",
    "            database, table = name.split('.')\n",
    "        except ValueError:\n",
    "            raise ValueError(f\"Nome da tabela inválido: {name}. Deve ser no formato 'database.table'.\")\n",
    "        definition = CatalogInterface.get_table_detail(database, table)\n",
    "        location = definition['StorageDescriptor']['Location']\n",
    "        if not location.endswith('/'):\n",
    "            location += '/'\n",
    "        return cls.format_full_url(location) if full else location\n",
    "        # if name not in cls.location_cache:\n",
    "        #     try:\n",
    "        #         database, table = name.split('.')\n",
    "        #     except ValueError:\n",
    "        #         raise ValueError(f\"Nome da tabela inválido: {name}. Deve ser no formato 'database.table'.\")\n",
    "        #     definition = CatalogInterface.get_table_detail(database, table)\n",
    "        #     location = definition['StorageDescriptor']['Location']\n",
    "        #     if not location.endswith('/'):\n",
    "        #         location += '/'\n",
    "        #     location = cls.format_full_url(location) if not full else location\n",
    "        #     cls.location_cache[name] = location\n",
    "        # return cls.location_cache[name]\n",
    "\n",
    "    @staticmethod\n",
    "    def parse_s3_url(s3_url: str) -> tuple[str, str]:\n",
    "        parts = s3_url[5:].split('/', 1)\n",
    "        bucket_name = parts[0]\n",
    "        prefix = parts[1] if len(parts) > 1 else ''\n",
    "        return bucket_name, prefix.rstrip('/')\n",
    "\n",
    "    @classmethod\n",
    "    def format_full_url(cls, s3_url: str, file_format: str = \"\") -> str:\n",
    "        if file_format != \"\" and not file_format.startswith('.'):\n",
    "            file_format = \".\" + file_format\n",
    "        bucket_name, prefix = cls.parse_s3_url(s3_url)\n",
    "        paginator = client_s3.get_paginator('list_objects_v2')\n",
    "        len_prefix = len(prefix.split(\"/\"))\n",
    "        for page in paginator.paginate(Bucket=bucket_name, Prefix=prefix):\n",
    "            if 'Contents' in page:\n",
    "                for obj in page['Contents']:\n",
    "                    key = obj['Key']\n",
    "                    path = Path(key)\n",
    "                    len_key = [\"*\"] * (len(key.split(\"/\")) - len_prefix)\n",
    "                    return f\"s3://{bucket_name}/{prefix}/{'/'.join(len_key)}{path.suffix}\"\n",
    "        raise ValueError(\"Not found\")"
   ]
  },
  {
   "cell_type": "code",
   "execution_count": 39,
   "id": "a9e50ed0",
   "metadata": {},
   "outputs": [],
   "source": [
    "class Table(metaclass=MetaTable):\n",
    "    ...    "
   ]
  },
  {
   "cell_type": "code",
   "execution_count": 44,
   "id": "46778c8a",
   "metadata": {},
   "outputs": [
    {
     "data": {
      "text/plain": [
       "'s3://data-us-east-1-891377318910/feature_quality/tb_current/*.parquet'"
      ]
     },
     "execution_count": 44,
     "metadata": {},
     "output_type": "execute_result"
    }
   ],
   "source": [
    "Table(\"base.tb_current\", full=True)"
   ]
  },
  {
   "cell_type": "markdown",
   "id": "c7156a53",
   "metadata": {},
   "source": [
    "## Teste"
   ]
  },
  {
   "cell_type": "markdown",
   "id": "813ad4dc",
   "metadata": {},
   "source": [
    "### polars"
   ]
  },
  {
   "cell_type": "code",
   "execution_count": 12,
   "id": "1f1fab0e",
   "metadata": {},
   "outputs": [],
   "source": [
    "creds = pl.CredentialProviderAWS(profile_name=\"default\")"
   ]
  },
  {
   "cell_type": "code",
   "execution_count": 13,
   "id": "ab4d63ca",
   "metadata": {},
   "outputs": [],
   "source": [
    "# df = pl.read_parquet(\n",
    "#     source='s3://data-us-east-1-891377318910/feature_quality/tb_current/',\n",
    "#     parallel=\"auto\",\n",
    "#     # use_pyarrow=True,\n",
    "# )"
   ]
  },
  {
   "cell_type": "code",
   "execution_count": 45,
   "id": "fc084e90",
   "metadata": {},
   "outputs": [],
   "source": [
    "df = pl.read_parquet(Table(\"base.tb_current\"))"
   ]
  },
  {
   "cell_type": "code",
   "execution_count": 46,
   "id": "2b80d6d7",
   "metadata": {},
   "outputs": [
    {
     "data": {
      "text/html": [
       "<div><style>\n",
       ".dataframe > thead > tr,\n",
       ".dataframe > tbody > tr {\n",
       "  text-align: right;\n",
       "  white-space: pre-wrap;\n",
       "}\n",
       "</style>\n",
       "<small>shape: (5, 13)</small><table border=\"1\" class=\"dataframe\"><thead><tr><th>fixed_acidity</th><th>volatile_acidity</th><th>citric_acid</th><th>residual_sugar</th><th>chlorides</th><th>free_sulfur_dioxide</th><th>total_sulfur_dioxide</th><th>density</th><th>ph</th><th>sulphates</th><th>alcohol</th><th>target</th><th>prediction</th></tr><tr><td>f64</td><td>f64</td><td>f64</td><td>f64</td><td>f64</td><td>f64</td><td>f64</td><td>f64</td><td>f64</td><td>f64</td><td>f64</td><td>i64</td><td>i64</td></tr></thead><tbody><tr><td>6.1</td><td>0.48</td><td>0.09</td><td>1.7</td><td>0.078</td><td>18.0</td><td>30.0</td><td>0.99402</td><td>3.45</td><td>0.54</td><td>11.2</td><td>6</td><td>6</td></tr><tr><td>6.1</td><td>0.715</td><td>0.1</td><td>2.6</td><td>0.053</td><td>13.0</td><td>27.0</td><td>0.99362</td><td>3.57</td><td>0.5</td><td>11.9</td><td>5</td><td>6</td></tr><tr><td>5.4</td><td>0.42</td><td>0.27</td><td>2.0</td><td>0.092</td><td>23.0</td><td>55.0</td><td>0.99471</td><td>3.78</td><td>0.64</td><td>12.3</td><td>7</td><td>6</td></tr><tr><td>7.2</td><td>0.66</td><td>0.33</td><td>2.5</td><td>0.068</td><td>34.0</td><td>102.0</td><td>0.99414</td><td>3.27</td><td>0.78</td><td>12.8</td><td>6</td><td>8</td></tr><tr><td>10.6</td><td>0.36</td><td>0.57</td><td>2.3</td><td>0.087</td><td>6.0</td><td>20.0</td><td>0.99676</td><td>3.14</td><td>0.72</td><td>11.1</td><td>7</td><td>6</td></tr></tbody></table></div>"
      ],
      "text/plain": [
       "shape: (5, 13)\n",
       "┌────────────┬────────────┬────────────┬────────────┬───┬───────────┬─────────┬────────┬───────────┐\n",
       "│ fixed_acid ┆ volatile_a ┆ citric_aci ┆ residual_s ┆ … ┆ sulphates ┆ alcohol ┆ target ┆ predictio │\n",
       "│ ity        ┆ cidity     ┆ d          ┆ ugar       ┆   ┆ ---       ┆ ---     ┆ ---    ┆ n         │\n",
       "│ ---        ┆ ---        ┆ ---        ┆ ---        ┆   ┆ f64       ┆ f64     ┆ i64    ┆ ---       │\n",
       "│ f64        ┆ f64        ┆ f64        ┆ f64        ┆   ┆           ┆         ┆        ┆ i64       │\n",
       "╞════════════╪════════════╪════════════╪════════════╪═══╪═══════════╪═════════╪════════╪═══════════╡\n",
       "│ 6.1        ┆ 0.48       ┆ 0.09       ┆ 1.7        ┆ … ┆ 0.54      ┆ 11.2    ┆ 6      ┆ 6         │\n",
       "│ 6.1        ┆ 0.715      ┆ 0.1        ┆ 2.6        ┆ … ┆ 0.5       ┆ 11.9    ┆ 5      ┆ 6         │\n",
       "│ 5.4        ┆ 0.42       ┆ 0.27       ┆ 2.0        ┆ … ┆ 0.64      ┆ 12.3    ┆ 7      ┆ 6         │\n",
       "│ 7.2        ┆ 0.66       ┆ 0.33       ┆ 2.5        ┆ … ┆ 0.78      ┆ 12.8    ┆ 6      ┆ 8         │\n",
       "│ 10.6       ┆ 0.36       ┆ 0.57       ┆ 2.3        ┆ … ┆ 0.72      ┆ 11.1    ┆ 7      ┆ 6         │\n",
       "└────────────┴────────────┴────────────┴────────────┴───┴───────────┴─────────┴────────┴───────────┘"
      ]
     },
     "execution_count": 46,
     "metadata": {},
     "output_type": "execute_result"
    }
   ],
   "source": [
    "df.head()"
   ]
  },
  {
   "cell_type": "code",
   "execution_count": 47,
   "id": "826816ee",
   "metadata": {},
   "outputs": [],
   "source": [
    "df = pl.scan_parquet(Table(\"base.amazon_reviews\", full=False), hive_partitioning=True)"
   ]
  },
  {
   "cell_type": "code",
   "execution_count": 48,
   "id": "4ec875f9",
   "metadata": {},
   "outputs": [],
   "source": [
    "df_filtered = df.filter(pl.col(\"product_category\") == \"Baby\").collect()"
   ]
  },
  {
   "cell_type": "code",
   "execution_count": 101,
   "id": "866ffa55",
   "metadata": {},
   "outputs": [
    {
     "data": {
      "text/html": [
       "<div><style>\n",
       ".dataframe > thead > tr,\n",
       ".dataframe > tbody > tr {\n",
       "  text-align: right;\n",
       "  white-space: pre-wrap;\n",
       "}\n",
       "</style>\n",
       "<small>shape: (1, 15)</small><table border=\"1\" class=\"dataframe\"><thead><tr><th>marketplace</th><th>customer_id</th><th>review_id</th><th>product_id</th><th>product_parent</th><th>product_title</th><th>star_rating</th><th>helpful_votes</th><th>total_votes</th><th>vine</th><th>verified_purchase</th><th>review_headline</th><th>review_body</th><th>review_date</th><th>product_category</th></tr><tr><td>u32</td><td>u32</td><td>u32</td><td>u32</td><td>u32</td><td>u32</td><td>u32</td><td>u32</td><td>u32</td><td>u32</td><td>u32</td><td>u32</td><td>u32</td><td>u32</td><td>u32</td></tr></thead><tbody><tr><td>1752932</td><td>1752932</td><td>1752932</td><td>1752932</td><td>1752932</td><td>1752909</td><td>1752932</td><td>1752932</td><td>1752932</td><td>1752932</td><td>1752932</td><td>1752921</td><td>1752774</td><td>1752932</td><td>1752932</td></tr></tbody></table></div>"
      ],
      "text/plain": [
       "shape: (1, 15)\n",
       "┌───────────┬───────────┬───────────┬───────────┬───┬───────────┬───────────┬───────────┬──────────┐\n",
       "│ marketpla ┆ customer_ ┆ review_id ┆ product_i ┆ … ┆ review_he ┆ review_bo ┆ review_da ┆ product_ │\n",
       "│ ce        ┆ id        ┆ ---       ┆ d         ┆   ┆ adline    ┆ dy        ┆ te        ┆ category │\n",
       "│ ---       ┆ ---       ┆ u32       ┆ ---       ┆   ┆ ---       ┆ ---       ┆ ---       ┆ ---      │\n",
       "│ u32       ┆ u32       ┆           ┆ u32       ┆   ┆ u32       ┆ u32       ┆ u32       ┆ u32      │\n",
       "╞═══════════╪═══════════╪═══════════╪═══════════╪═══╪═══════════╪═══════════╪═══════════╪══════════╡\n",
       "│ 1752932   ┆ 1752932   ┆ 1752932   ┆ 1752932   ┆ … ┆ 1752921   ┆ 1752774   ┆ 1752932   ┆ 1752932  │\n",
       "└───────────┴───────────┴───────────┴───────────┴───┴───────────┴───────────┴───────────┴──────────┘"
      ]
     },
     "execution_count": 101,
     "metadata": {},
     "output_type": "execute_result"
    }
   ],
   "source": [
    "df_filtered.count()"
   ]
  },
  {
   "cell_type": "code",
   "execution_count": null,
   "id": "496e800d",
   "metadata": {},
   "outputs": [],
   "source": []
  },
  {
   "cell_type": "markdown",
   "id": "977f0a31",
   "metadata": {},
   "source": [
    "### duckdb"
   ]
  },
  {
   "cell_type": "code",
   "execution_count": 50,
   "id": "cfd76cf7",
   "metadata": {},
   "outputs": [
    {
     "data": {
      "text/plain": [
       "<duckdb.duckdb.DuckDBPyConnection at 0x7f212d35ae70>"
      ]
     },
     "execution_count": 50,
     "metadata": {},
     "output_type": "execute_result"
    }
   ],
   "source": [
    "conn = duckdb.connect(database=\":memory:\", read_only=False)\n",
    "conn.execute(\"INSTALL httpfs;\")\n",
    "conn.execute(\"LOAD httpfs;\")\n",
    "conn.execute(\"SET s3_region='us-east-1';\")\n",
    "conn.execute(\"\"\"\n",
    "CREATE SECRET (\n",
    "    TYPE S3,\n",
    "    PROVIDER CREDENTIAL_CHAIN\n",
    ");\n",
    "\"\"\")"
   ]
  },
  {
   "cell_type": "code",
   "execution_count": 51,
   "id": "1d14cfd7",
   "metadata": {},
   "outputs": [],
   "source": [
    "# df_rel = conn.read_parquet(Table(\"base.amazon_reviews\"))"
   ]
  },
  {
   "cell_type": "code",
   "execution_count": 52,
   "id": "bc5aef7b",
   "metadata": {},
   "outputs": [
    {
     "data": {
      "application/vnd.jupyter.widget-view+json": {
       "model_id": "aeb5e1a64cc34cf5af98389e997a6496",
       "version_major": 2,
       "version_minor": 0
      },
      "text/plain": [
       "FloatProgress(value=0.0, layout=Layout(width='auto'), style=ProgressStyle(bar_color='black'))"
      ]
     },
     "metadata": {},
     "output_type": "display_data"
    }
   ],
   "source": [
    "df = conn.sql(f\"\"\"\n",
    "SELECT * \n",
    "FROM read_parquet('{Table(\"base.amazon_reviews\", full=True)}')\n",
    "WHERE product_category = 'Baby';\n",
    "\"\"\").df()"
   ]
  },
  {
   "cell_type": "code",
   "execution_count": 53,
   "id": "70c058f5",
   "metadata": {},
   "outputs": [
    {
     "data": {
      "text/plain": [
       "marketplace          1752932\n",
       "customer_id          1752932\n",
       "review_id            1752932\n",
       "product_id           1752932\n",
       "product_parent       1752932\n",
       "product_title        1752909\n",
       "star_rating          1752932\n",
       "helpful_votes        1752932\n",
       "total_votes          1752932\n",
       "vine                 1752932\n",
       "verified_purchase    1752932\n",
       "review_headline      1752921\n",
       "review_body          1752774\n",
       "review_date          1752932\n",
       "product_category     1752932\n",
       "dtype: int64"
      ]
     },
     "execution_count": 53,
     "metadata": {},
     "output_type": "execute_result"
    }
   ],
   "source": [
    "df.count()"
   ]
  },
  {
   "cell_type": "code",
   "execution_count": 67,
   "id": "5a1b763c",
   "metadata": {},
   "outputs": [],
   "source": [
    "def parse_s3_url(s3_url: str) -> tuple[str, str]:\n",
    "    parts = s3_url[5:].split('/', 1)\n",
    "    bucket_name = parts[0]\n",
    "    prefix = parts[1] if len(parts) > 1 else ''\n",
    "    return bucket_name, prefix.rstrip('/')\n",
    "\n",
    "\n",
    "def find_s3_objects(s3_url: str, file_format: str = \"\") -> str:\n",
    "    if file_format != \"\" and not file_format.startswith('.'):\n",
    "        file_format = \".\" + file_format\n",
    "    bucket_name, prefix = parse_s3_url(s3_url)\n",
    "    paginator = client_s3.get_paginator('list_objects_v2')\n",
    "    len_prefix = len(prefix.split(\"/\"))\n",
    "    for page in paginator.paginate(Bucket=bucket_name, Prefix=prefix):\n",
    "        if 'Contents' in page:\n",
    "            for obj in page['Contents']:\n",
    "                key = obj['Key']\n",
    "                path = Path(key)\n",
    "                len_key = [\"*\"] * (len(key.split(\"/\")) - len_prefix)\n",
    "                return f\"s3://{bucket_name}/{prefix}/{'/'.join(len_key)}{path.suffix}\"\n",
    "                # if path.suffix == \"\":\n",
    "                #     len_key = [\"*\"] * (len(key.split(\"/\")) - len_prefix)\n",
    "                #     return f\"s3://{bucket_name}/{prefix}/{'/'.join(len_key)}{file_format}\"\n",
    "    raise ValueError(\"Not found\")"
   ]
  },
  {
   "cell_type": "code",
   "execution_count": 68,
   "id": "b70a1504",
   "metadata": {},
   "outputs": [
    {
     "data": {
      "text/plain": [
       "'s3://data-us-east-1-891377318910/datasets/amazon_reviews/*/*'"
      ]
     },
     "execution_count": 68,
     "metadata": {},
     "output_type": "execute_result"
    }
   ],
   "source": [
    "table_location = find_s3_objects(Table(\"base.amazon_reviews\"))\n",
    "table_location"
   ]
  },
  {
   "cell_type": "code",
   "execution_count": 65,
   "id": "eccf719b",
   "metadata": {},
   "outputs": [],
   "source": [
    "df = conn.sql(f\"\"\"\n",
    "SELECT * \n",
    "FROM read_parquet('{table_location}')\n",
    "WHERE product_category = 'Baby';\n",
    "\"\"\").df()"
   ]
  },
  {
   "cell_type": "code",
   "execution_count": 66,
   "id": "de81ac5b",
   "metadata": {},
   "outputs": [
    {
     "data": {
      "text/plain": [
       "marketplace          1752932\n",
       "customer_id          1752932\n",
       "review_id            1752932\n",
       "product_id           1752932\n",
       "product_parent       1752932\n",
       "product_title        1752909\n",
       "star_rating          1752932\n",
       "helpful_votes        1752932\n",
       "total_votes          1752932\n",
       "vine                 1752932\n",
       "verified_purchase    1752932\n",
       "review_headline      1752921\n",
       "review_body          1752774\n",
       "review_date          1752932\n",
       "product_category     1752932\n",
       "dtype: int64"
      ]
     },
     "execution_count": 66,
     "metadata": {},
     "output_type": "execute_result"
    }
   ],
   "source": [
    "df.count()"
   ]
  },
  {
   "cell_type": "code",
   "execution_count": null,
   "id": "f91dbc8e",
   "metadata": {},
   "outputs": [],
   "source": []
  },
  {
   "cell_type": "code",
   "execution_count": null,
   "id": "2bb191e1",
   "metadata": {},
   "outputs": [],
   "source": []
  },
  {
   "cell_type": "code",
   "execution_count": null,
   "id": "59fb7147",
   "metadata": {},
   "outputs": [],
   "source": []
  },
  {
   "cell_type": "code",
   "execution_count": null,
   "id": "79f6348a",
   "metadata": {},
   "outputs": [],
   "source": []
  }
 ],
 "metadata": {
  "kernelspec": {
   "display_name": "itau",
   "language": "python",
   "name": "python3"
  },
  "language_info": {
   "codemirror_mode": {
    "name": "ipython",
    "version": 3
   },
   "file_extension": ".py",
   "mimetype": "text/x-python",
   "name": "python",
   "nbconvert_exporter": "python",
   "pygments_lexer": "ipython3",
   "version": "3.10.14"
  }
 },
 "nbformat": 4,
 "nbformat_minor": 5
}
