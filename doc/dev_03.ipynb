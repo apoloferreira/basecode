{
 "cells": [
  {
   "cell_type": "code",
   "execution_count": 1,
   "id": "7f10d50e",
   "metadata": {},
   "outputs": [],
   "source": [
    "import os\n",
    "import sys\n",
    "import pandas as pd\n",
    "import pyarrow as pa\n",
    "import awswrangler as wr\n",
    "from datetime import datetime, date, timedelta\n",
    "from dateutil.relativedelta import relativedelta\n",
    "from dataclasses import dataclass, asdict\n",
    "\n",
    "from shapely import wkt\n",
    "from shapely.geometry import Polygon"
   ]
  },
  {
   "cell_type": "code",
   "execution_count": 2,
   "id": "3c7e0ad7",
   "metadata": {},
   "outputs": [],
   "source": [
    "# os.listdir(\"/tmp\")"
   ]
  },
  {
   "cell_type": "code",
   "execution_count": 4,
   "id": "a5144ba0",
   "metadata": {},
   "outputs": [],
   "source": [
    "def athena_read_sql(query: str) -> pd.DataFrame:\n",
    "    return wr.athena.read_sql_query(\n",
    "        sql=query,\n",
    "        database=\"db_ice\",\n",
    "        ctas_approach=False,\n",
    "        s3_output=\"s3://aws-athena-query-results-891377318910-us-east-1/output/\",\n",
    "    )\n",
    "\n",
    "\n",
    "def get_polygon_record_by_day(id_poligono: str, dt_ref: str) -> dict:\n",
    "    # date_reference = datetime.today().strftime(\"%Y%m%d\")\n",
    "    query = f\"\"\"\n",
    "    SELECT *\n",
    "    FROM db_ice.tb_poligono\n",
    "    WHERE anomesdia = {dt_ref}\n",
    "        AND id_poligono = '{id_poligono}'\n",
    "    \"\"\"\n",
    "    df = athena_read_sql(query)\n",
    "    return df\n",
    "    # return df.iloc[0, :].to_dict()"
   ]
  },
  {
   "cell_type": "code",
   "execution_count": 5,
   "id": "2c9ba0c2",
   "metadata": {},
   "outputs": [],
   "source": [
    "def get_polygon_from_geometry(geometry: dict) -> Polygon:\n",
    "    return wkt.loads(geometry)"
   ]
  },
  {
   "cell_type": "code",
   "execution_count": 6,
   "id": "8e5724a8",
   "metadata": {},
   "outputs": [
    {
     "data": {
      "text/plain": [
       "'20250810'"
      ]
     },
     "execution_count": 6,
     "metadata": {},
     "output_type": "execute_result"
    }
   ],
   "source": [
    "# ref = datetime.today().strftime(\"%Y%m%d\")\n",
    "ref = \"20250810\"\n",
    "ref"
   ]
  },
  {
   "cell_type": "code",
   "execution_count": 7,
   "id": "7a727c22",
   "metadata": {},
   "outputs": [],
   "source": [
    "id_poligono = \"id_001\""
   ]
  },
  {
   "cell_type": "code",
   "execution_count": 8,
   "id": "65ffaa53",
   "metadata": {},
   "outputs": [],
   "source": [
    "record = get_polygon_record_by_day(id_poligono, ref)"
   ]
  },
  {
   "cell_type": "code",
   "execution_count": 11,
   "id": "a4c55025",
   "metadata": {},
   "outputs": [],
   "source": [
    "# record.iloc[0, :].to_dict()"
   ]
  },
  {
   "cell_type": "code",
   "execution_count": 47,
   "id": "45a63b42",
   "metadata": {},
   "outputs": [],
   "source": [
    "# record['poligono']"
   ]
  },
  {
   "cell_type": "code",
   "execution_count": 53,
   "id": "15083ad4",
   "metadata": {},
   "outputs": [],
   "source": [
    "polygon = get_polygon_from_geometry(record['poligono'])"
   ]
  },
  {
   "cell_type": "code",
   "execution_count": 20,
   "id": "f322b7de",
   "metadata": {},
   "outputs": [],
   "source": [
    "query = \"\"\"\n",
    "SELECT id_poligono, data_plantio, anomesdia\n",
    "FROM db_ice.tb_poligono\n",
    "-- WHERE id_poligono = 'id_001'\n",
    "\"\"\"\n",
    "df = athena_read_sql(query)\n"
   ]
  },
  {
   "cell_type": "code",
   "execution_count": 21,
   "id": "0ca2f88a",
   "metadata": {},
   "outputs": [
    {
     "data": {
      "text/plain": [
       "5"
      ]
     },
     "execution_count": 21,
     "metadata": {},
     "output_type": "execute_result"
    }
   ],
   "source": [
    "df.shape[0]"
   ]
  },
  {
   "cell_type": "code",
   "execution_count": 22,
   "id": "0db9dc8d",
   "metadata": {},
   "outputs": [
    {
     "data": {
      "text/html": [
       "<div>\n",
       "<style scoped>\n",
       "    .dataframe tbody tr th:only-of-type {\n",
       "        vertical-align: middle;\n",
       "    }\n",
       "\n",
       "    .dataframe tbody tr th {\n",
       "        vertical-align: top;\n",
       "    }\n",
       "\n",
       "    .dataframe thead th {\n",
       "        text-align: right;\n",
       "    }\n",
       "</style>\n",
       "<table border=\"1\" class=\"dataframe\">\n",
       "  <thead>\n",
       "    <tr style=\"text-align: right;\">\n",
       "      <th></th>\n",
       "      <th>id_poligono</th>\n",
       "      <th>data_plantio</th>\n",
       "      <th>anomesdia</th>\n",
       "    </tr>\n",
       "  </thead>\n",
       "  <tbody>\n",
       "    <tr>\n",
       "      <th>0</th>\n",
       "      <td>id_002</td>\n",
       "      <td>2023-07-10</td>\n",
       "      <td>20250810</td>\n",
       "    </tr>\n",
       "    <tr>\n",
       "      <th>1</th>\n",
       "      <td>id_003</td>\n",
       "      <td>2023-08-01</td>\n",
       "      <td>20250810</td>\n",
       "    </tr>\n",
       "    <tr>\n",
       "      <th>2</th>\n",
       "      <td>id_004</td>\n",
       "      <td>2023-08-01</td>\n",
       "      <td>20250810</td>\n",
       "    </tr>\n",
       "    <tr>\n",
       "      <th>3</th>\n",
       "      <td>id_005</td>\n",
       "      <td>2023-08-01</td>\n",
       "      <td>20250810</td>\n",
       "    </tr>\n",
       "    <tr>\n",
       "      <th>4</th>\n",
       "      <td>id_001</td>\n",
       "      <td>2023-06-21</td>\n",
       "      <td>20250810</td>\n",
       "    </tr>\n",
       "  </tbody>\n",
       "</table>\n",
       "</div>"
      ],
      "text/plain": [
       "  id_poligono data_plantio  anomesdia\n",
       "0      id_002   2023-07-10   20250810\n",
       "1      id_003   2023-08-01   20250810\n",
       "2      id_004   2023-08-01   20250810\n",
       "3      id_005   2023-08-01   20250810\n",
       "4      id_001   2023-06-21   20250810"
      ]
     },
     "execution_count": 22,
     "metadata": {},
     "output_type": "execute_result"
    }
   ],
   "source": [
    "df.head()"
   ]
  },
  {
   "cell_type": "code",
   "execution_count": 11,
   "id": "640aa675",
   "metadata": {},
   "outputs": [],
   "source": [
    "try:\n",
    "    x = df.iloc[0, :].to_dict()\n",
    "except IndexError:\n",
    "    print(\"Oi\")"
   ]
  },
  {
   "cell_type": "code",
   "execution_count": 12,
   "id": "f8a82fe2",
   "metadata": {},
   "outputs": [
    {
     "data": {
      "text/plain": [
       "{'id_poligono': 'id_001',\n",
       " 'data_penultima_ingestao': None,\n",
       " 'data_ultima_ingestao': '2025-08-29'}"
      ]
     },
     "execution_count": 12,
     "metadata": {},
     "output_type": "execute_result"
    }
   ],
   "source": [
    "x"
   ]
  },
  {
   "cell_type": "code",
   "execution_count": null,
   "id": "5ba82095",
   "metadata": {},
   "outputs": [
    {
     "name": "stdout",
     "output_type": "stream",
     "text": [
      "{'id_poligono': 'id_002', 'data_plantio': '2023-07-10', 'anomesdia': 20250810}\n",
      "{'id_poligono': 'id_003', 'data_plantio': '2023-08-01', 'anomesdia': 20250810}\n",
      "{'id_poligono': 'id_004', 'data_plantio': '2023-08-01', 'anomesdia': 20250810}\n",
      "{'id_poligono': 'id_005', 'data_plantio': '2023-08-01', 'anomesdia': 20250810}\n",
      "{'id_poligono': 'id_001', 'data_plantio': '2023-06-21', 'anomesdia': 20250810}\n"
     ]
    }
   ],
   "source": [
    "# orient: Literal['dict', 'list', 'series', 'index']\n",
    "for idx, item in df.to_dict(orient=\"index\").items():\n",
    "    print(item)"
   ]
  },
  {
   "cell_type": "code",
   "execution_count": null,
   "id": "e517040d",
   "metadata": {},
   "outputs": [
    {
     "data": {
      "text/plain": [
       "rec.array([(0, 'id_002', '2023-07-10', 20250810),\n",
       "           (1, 'id_003', '2023-08-01', 20250810),\n",
       "           (2, 'id_004', '2023-08-01', 20250810),\n",
       "           (3, 'id_005', '2023-08-01', 20250810),\n",
       "           (4, 'id_001', '2023-06-21', 20250810)],\n",
       "          dtype=[('index', '<i8'), ('id_poligono', 'O'), ('data_plantio', 'O'), ('anomesdia', 'O')])"
      ]
     },
     "execution_count": 35,
     "metadata": {},
     "output_type": "execute_result"
    }
   ],
   "source": [
    "df.to_records()"
   ]
  },
  {
   "cell_type": "code",
   "execution_count": 30,
   "id": "112e3bbb",
   "metadata": {},
   "outputs": [],
   "source": [
    "# pd.DataFrame.from_records(df.to_records()).reset_index(drop=True)\n",
    "# pd.DataFrame.from_records(df.to_dict())"
   ]
  },
  {
   "cell_type": "code",
   "execution_count": 31,
   "id": "0372e99e",
   "metadata": {},
   "outputs": [
    {
     "data": {
      "text/html": [
       "<div>\n",
       "<style scoped>\n",
       "    .dataframe tbody tr th:only-of-type {\n",
       "        vertical-align: middle;\n",
       "    }\n",
       "\n",
       "    .dataframe tbody tr th {\n",
       "        vertical-align: top;\n",
       "    }\n",
       "\n",
       "    .dataframe thead th {\n",
       "        text-align: right;\n",
       "    }\n",
       "</style>\n",
       "<table border=\"1\" class=\"dataframe\">\n",
       "  <thead>\n",
       "    <tr style=\"text-align: right;\">\n",
       "      <th></th>\n",
       "      <th>id_poligono</th>\n",
       "      <th>data_plantio</th>\n",
       "      <th>anomesdia</th>\n",
       "    </tr>\n",
       "  </thead>\n",
       "  <tbody>\n",
       "    <tr>\n",
       "      <th>0</th>\n",
       "      <td>id_002</td>\n",
       "      <td>2023-07-10</td>\n",
       "      <td>20250810</td>\n",
       "    </tr>\n",
       "    <tr>\n",
       "      <th>1</th>\n",
       "      <td>id_003</td>\n",
       "      <td>2023-08-01</td>\n",
       "      <td>20250810</td>\n",
       "    </tr>\n",
       "    <tr>\n",
       "      <th>2</th>\n",
       "      <td>id_004</td>\n",
       "      <td>2023-08-01</td>\n",
       "      <td>20250810</td>\n",
       "    </tr>\n",
       "    <tr>\n",
       "      <th>3</th>\n",
       "      <td>id_005</td>\n",
       "      <td>2023-08-01</td>\n",
       "      <td>20250810</td>\n",
       "    </tr>\n",
       "    <tr>\n",
       "      <th>4</th>\n",
       "      <td>id_001</td>\n",
       "      <td>2023-06-21</td>\n",
       "      <td>20250810</td>\n",
       "    </tr>\n",
       "  </tbody>\n",
       "</table>\n",
       "</div>"
      ],
      "text/plain": [
       "  id_poligono data_plantio  anomesdia\n",
       "0      id_002   2023-07-10   20250810\n",
       "1      id_003   2023-08-01   20250810\n",
       "2      id_004   2023-08-01   20250810\n",
       "3      id_005   2023-08-01   20250810\n",
       "4      id_001   2023-06-21   20250810"
      ]
     },
     "execution_count": 31,
     "metadata": {},
     "output_type": "execute_result"
    }
   ],
   "source": [
    "df.head()"
   ]
  },
  {
   "cell_type": "code",
   "execution_count": 33,
   "id": "ece6ba47",
   "metadata": {},
   "outputs": [],
   "source": [
    "arrow_table = pa.Table.from_pandas(df)"
   ]
  },
  {
   "cell_type": "code",
   "execution_count": 34,
   "id": "a8572ed3",
   "metadata": {},
   "outputs": [
    {
     "data": {
      "text/plain": [
       "pyarrow.Table\n",
       "id_poligono: string\n",
       "data_plantio: string\n",
       "anomesdia: int32\n",
       "----\n",
       "id_poligono: [[\"id_002\",\"id_003\",\"id_004\",\"id_005\",\"id_001\"]]\n",
       "data_plantio: [[\"2023-07-10\",\"2023-08-01\",\"2023-08-01\",\"2023-08-01\",\"2023-06-21\"]]\n",
       "anomesdia: [[20250810,20250810,20250810,20250810,20250810]]"
      ]
     },
     "execution_count": 34,
     "metadata": {},
     "output_type": "execute_result"
    }
   ],
   "source": [
    "arrow_table"
   ]
  },
  {
   "cell_type": "code",
   "execution_count": 45,
   "id": "df3e996b",
   "metadata": {},
   "outputs": [
    {
     "name": "stdout",
     "output_type": "stream",
     "text": [
      "('id_002', '2023-07-10', 20250810)\n",
      "('id_003', '2023-08-01', 20250810)\n",
      "('id_004', '2023-08-01', 20250810)\n",
      "('id_005', '2023-08-01', 20250810)\n",
      "('id_001', '2023-06-21', 20250810)\n"
     ]
    }
   ],
   "source": [
    "values = []\n",
    "\n",
    "for item in df.to_records(index=False):\n",
    "    print(item)\n",
    "    values.append(item)"
   ]
  },
  {
   "cell_type": "code",
   "execution_count": 48,
   "id": "8cac9197",
   "metadata": {},
   "outputs": [
    {
     "data": {
      "text/plain": [
       "[('id_002', '2023-07-10', 20250810),\n",
       " ('id_003', '2023-08-01', 20250810),\n",
       " ('id_004', '2023-08-01', 20250810),\n",
       " ('id_005', '2023-08-01', 20250810),\n",
       " ('id_001', '2023-06-21', 20250810)]"
      ]
     },
     "execution_count": 48,
     "metadata": {},
     "output_type": "execute_result"
    }
   ],
   "source": [
    "values"
   ]
  },
  {
   "cell_type": "code",
   "execution_count": 46,
   "id": "9130002f",
   "metadata": {},
   "outputs": [],
   "source": [
    "schema: pa.schema = pa.schema([\n",
    "    pa.field(\"id_poligono\", pa.string(), nullable=False),\n",
    "    pa.field(\"data_plantio\", pa.string(), nullable=False),\n",
    "    pa.field(\"anomesdia\", pa.uint32(), nullable=True),\n",
    "])\n",
    "\n",
    "\n",
    "arrow_table = pa.Table.from_pylist(\n",
    "    values,\n",
    "    schema=schema\n",
    ")"
   ]
  },
  {
   "cell_type": "code",
   "execution_count": 47,
   "id": "4be05af2",
   "metadata": {},
   "outputs": [
    {
     "data": {
      "text/html": [
       "<div>\n",
       "<style scoped>\n",
       "    .dataframe tbody tr th:only-of-type {\n",
       "        vertical-align: middle;\n",
       "    }\n",
       "\n",
       "    .dataframe tbody tr th {\n",
       "        vertical-align: top;\n",
       "    }\n",
       "\n",
       "    .dataframe thead th {\n",
       "        text-align: right;\n",
       "    }\n",
       "</style>\n",
       "<table border=\"1\" class=\"dataframe\">\n",
       "  <thead>\n",
       "    <tr style=\"text-align: right;\">\n",
       "      <th></th>\n",
       "      <th>id_poligono</th>\n",
       "      <th>data_plantio</th>\n",
       "      <th>anomesdia</th>\n",
       "    </tr>\n",
       "  </thead>\n",
       "  <tbody>\n",
       "    <tr>\n",
       "      <th>0</th>\n",
       "      <td>None</td>\n",
       "      <td>None</td>\n",
       "      <td>NaN</td>\n",
       "    </tr>\n",
       "    <tr>\n",
       "      <th>1</th>\n",
       "      <td>None</td>\n",
       "      <td>None</td>\n",
       "      <td>NaN</td>\n",
       "    </tr>\n",
       "    <tr>\n",
       "      <th>2</th>\n",
       "      <td>None</td>\n",
       "      <td>None</td>\n",
       "      <td>NaN</td>\n",
       "    </tr>\n",
       "    <tr>\n",
       "      <th>3</th>\n",
       "      <td>None</td>\n",
       "      <td>None</td>\n",
       "      <td>NaN</td>\n",
       "    </tr>\n",
       "    <tr>\n",
       "      <th>4</th>\n",
       "      <td>None</td>\n",
       "      <td>None</td>\n",
       "      <td>NaN</td>\n",
       "    </tr>\n",
       "  </tbody>\n",
       "</table>\n",
       "</div>"
      ],
      "text/plain": [
       "  id_poligono data_plantio  anomesdia\n",
       "0        None         None        NaN\n",
       "1        None         None        NaN\n",
       "2        None         None        NaN\n",
       "3        None         None        NaN\n",
       "4        None         None        NaN"
      ]
     },
     "execution_count": 47,
     "metadata": {},
     "output_type": "execute_result"
    }
   ],
   "source": [
    "arrow_table.to_pandas()"
   ]
  },
  {
   "cell_type": "code",
   "execution_count": 60,
   "id": "76412a9e",
   "metadata": {},
   "outputs": [],
   "source": [
    "@dataclass\n",
    "class ControleIngestao:\n",
    "    id_poligono: str\n",
    "    data_plantio: str\n",
    "    anomesdia: int\n",
    "\n",
    "\n",
    "values_class = []\n",
    "\n",
    "\n",
    "for idx, item in df.to_dict(orient=\"index\").items():\n",
    "    # values_class.append(ControleIngestao(**item))\n",
    "    values_class.append(item)"
   ]
  },
  {
   "cell_type": "code",
   "execution_count": 61,
   "id": "01cedbc5",
   "metadata": {},
   "outputs": [
    {
     "data": {
      "text/plain": [
       "{'id_poligono': 'id_002', 'data_plantio': '2023-07-10', 'anomesdia': 20250810}"
      ]
     },
     "execution_count": 61,
     "metadata": {},
     "output_type": "execute_result"
    }
   ],
   "source": [
    "values_class[0]"
   ]
  },
  {
   "cell_type": "code",
   "execution_count": null,
   "id": "abe1f690",
   "metadata": {},
   "outputs": [],
   "source": []
  },
  {
   "cell_type": "code",
   "execution_count": 33,
   "id": "4dfd993f",
   "metadata": {},
   "outputs": [
    {
     "data": {
      "text/plain": [
       "'2025-08-24'"
      ]
     },
     "execution_count": 33,
     "metadata": {},
     "output_type": "execute_result"
    }
   ],
   "source": [
    "date_reference = datetime.today().strftime(\"%Y-%m-%d\")\n",
    "date_reference"
   ]
  },
  {
   "cell_type": "code",
   "execution_count": 34,
   "id": "578bf887",
   "metadata": {},
   "outputs": [
    {
     "data": {
      "text/plain": [
       "datetime.datetime(2025, 8, 24, 0, 0)"
      ]
     },
     "execution_count": 34,
     "metadata": {},
     "output_type": "execute_result"
    }
   ],
   "source": [
    "dt_ref = datetime.strptime(date_reference, \"%Y-%m-%d\")\n",
    "dt_ref"
   ]
  },
  {
   "cell_type": "code",
   "execution_count": 42,
   "id": "d9831e73",
   "metadata": {},
   "outputs": [
    {
     "data": {
      "text/plain": [
       "datetime.datetime(2025, 7, 24, 0, 0)"
      ]
     },
     "execution_count": 42,
     "metadata": {},
     "output_type": "execute_result"
    }
   ],
   "source": [
    "dt_ref - relativedelta(months=1)"
   ]
  },
  {
   "cell_type": "code",
   "execution_count": 14,
   "id": "520733b8",
   "metadata": {},
   "outputs": [
    {
     "data": {
      "text/plain": [
       "datetime.datetime(2025, 8, 13, 13, 18, 59)"
      ]
     },
     "execution_count": 14,
     "metadata": {},
     "output_type": "execute_result"
    }
   ],
   "source": [
    "last_ingestion = \"2025-08-13T13:18:59.0Z\"  # \"2025-08-13T13:18:59.003000Z\"\n",
    "datetime.strptime(last_ingestion, \"%Y-%m-%dT%H:%M:%S.%fZ\")"
   ]
  },
  {
   "cell_type": "markdown",
   "id": "105a02f8",
   "metadata": {},
   "source": [
    "## s3fs"
   ]
  },
  {
   "cell_type": "code",
   "execution_count": 31,
   "id": "3b6ff3de",
   "metadata": {},
   "outputs": [],
   "source": [
    "from s3fs import S3FileSystem\n",
    "from pyarrow import fs\n",
    "from obstore.store import S3Store\n",
    "import boto3"
   ]
  },
  {
   "cell_type": "code",
   "execution_count": 20,
   "id": "4e446d07",
   "metadata": {},
   "outputs": [],
   "source": [
    "my_session = boto3.session.Session(region_name=\"us-east-1\")"
   ]
  },
  {
   "cell_type": "code",
   "execution_count": 21,
   "id": "344a7d0c",
   "metadata": {},
   "outputs": [
    {
     "name": "stdout",
     "output_type": "stream",
     "text": [
      "zarr_path: s3://data-us-east-1-891377318910/mvp_sensoriamento/images/sentinel-2-l2a/id_001.zarr\n"
     ]
    }
   ],
   "source": [
    "s3_fs = S3FileSystem(anon=False)\n",
    "\n",
    "id_poligono = \"id_001\"\n",
    "zarr_path = \"/\".join([\n",
    "    \"s3://data-us-east-1-891377318910/mvp_sensoriamento/images\",\n",
    "    f\"sentinel-2-l2a/{id_poligono}.zarr\"\n",
    "])\n",
    "print(f\"zarr_path: {zarr_path}\")"
   ]
  },
  {
   "cell_type": "code",
   "execution_count": 22,
   "id": "29d4a31e",
   "metadata": {},
   "outputs": [
    {
     "name": "stdout",
     "output_type": "stream",
     "text": [
      "Existe\n"
     ]
    }
   ],
   "source": [
    "if s3_fs.exists(\"s3://data-us-east-1-891377318910/geospatial/starage/zarr/lafaiete.zarr\"):\n",
    "    print(\"Existe\")\n",
    "else:\n",
    "    print(\"Nao existe\")"
   ]
  },
  {
   "cell_type": "code",
   "execution_count": 23,
   "id": "2c10cfd4",
   "metadata": {},
   "outputs": [],
   "source": [
    "s3 = fs.S3FileSystem(region='us-east-1')"
   ]
  },
  {
   "cell_type": "code",
   "execution_count": 27,
   "id": "5fec2231",
   "metadata": {},
   "outputs": [],
   "source": [
    "def s3_path_exists(bucket_name: str, s3_path: str) -> bool:\n",
    "    client_s3 = boto3.client(service_name=\"s3\")\n",
    "\n",
    "    # Remove barra inicial, se existir\n",
    "    s3_path = s3_path.lstrip(\"/\")\n",
    "\n",
    "    # Usa list_objects_v2 para verificar se o caminho existe\n",
    "    response = client_s3.list_objects_v2(\n",
    "        Bucket=bucket_name,\n",
    "        Prefix=s3_path,\n",
    "        MaxKeys=1\n",
    "    )\n",
    "\n",
    "    return \"Contents\" in response"
   ]
  },
  {
   "cell_type": "code",
   "execution_count": 29,
   "id": "b241feb1",
   "metadata": {},
   "outputs": [
    {
     "data": {
      "text/plain": [
       "True"
      ]
     },
     "execution_count": 29,
     "metadata": {},
     "output_type": "execute_result"
    }
   ],
   "source": [
    "s3_path_exists(\"data-us-east-1-891377318910\", \"/geospatial/starage/zarr/lafaiete.zarr\")"
   ]
  },
  {
   "cell_type": "code",
   "execution_count": null,
   "id": "cc231985",
   "metadata": {},
   "outputs": [],
   "source": []
  },
  {
   "cell_type": "code",
   "execution_count": null,
   "id": "838c8d3b",
   "metadata": {},
   "outputs": [],
   "source": []
  },
  {
   "cell_type": "code",
   "execution_count": null,
   "id": "bb412fb4",
   "metadata": {},
   "outputs": [],
   "source": []
  }
 ],
 "metadata": {
  "kernelspec": {
   "display_name": "itau",
   "language": "python",
   "name": "python3"
  },
  "language_info": {
   "codemirror_mode": {
    "name": "ipython",
    "version": 3
   },
   "file_extension": ".py",
   "mimetype": "text/x-python",
   "name": "python",
   "nbconvert_exporter": "python",
   "pygments_lexer": "ipython3",
   "version": "3.10.14"
  }
 },
 "nbformat": 4,
 "nbformat_minor": 5
}
