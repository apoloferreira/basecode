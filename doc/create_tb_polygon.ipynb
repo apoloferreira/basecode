{
 "cells": [
  {
   "cell_type": "code",
   "execution_count": null,
   "id": "7146aaff",
   "metadata": {},
   "outputs": [],
   "source": []
  },
  {
   "cell_type": "code",
   "execution_count": 1,
   "id": "9966c3b2",
   "metadata": {},
   "outputs": [],
   "source": [
    "import boto3\n",
    "import geojson\n",
    "import pyarrow as pa\n",
    "import pandas as pd\n",
    "import geopandas as gpd\n",
    "\n",
    "from typing import ClassVar, Type\n",
    "from datetime import datetime\n",
    "from pyarrow.fs import S3FileSystem\n",
    "from dataclasses import dataclass\n",
    "\n",
    "from pyiceberg.catalog import load_catalog\n",
    "from pyiceberg.catalog.glue import GlueCatalog\n",
    "from pyiceberg.table import StaticTable, DataScan\n",
    "from pyiceberg.partitioning import PartitionSpec, PartitionField\n",
    "from pyiceberg.table.sorting import SortOrder, SortField\n",
    "from pyiceberg.io.pyarrow import pyarrow_to_schema\n",
    "from pyiceberg.transforms import IdentityTransform, DayTransform, YearTransform\n",
    "from pyiceberg.expressions import EqualTo, GreaterThanOrEqual\n",
    "from pyiceberg.schema import Schema\n",
    "from pyiceberg.table import Table\n",
    "from pyiceberg import types as T\n",
    "\n",
    "from geojson.utils import coords\n",
    "from shapely.geometry import shape, Polygon, LinearRing, box, mapping"
   ]
  },
  {
   "cell_type": "code",
   "execution_count": 2,
   "id": "1c4b0efc",
   "metadata": {},
   "outputs": [],
   "source": [
    "glue_catalog = load_catalog(\n",
    "    'default',\n",
    "    type='glue',\n",
    "    profile='default',\n",
    "    region_name='us-east-1',\n",
    "    client={\n",
    "        'region': 'us-east-1',\n",
    "    }\n",
    ")"
   ]
  },
  {
   "cell_type": "code",
   "execution_count": null,
   "id": "2930fd0b",
   "metadata": {},
   "outputs": [],
   "source": [
    "# glue_catalog.create_namespace_if_not_exists(\"db_ice\")"
   ]
  },
  {
   "cell_type": "code",
   "execution_count": 115,
   "id": "13936b12",
   "metadata": {},
   "outputs": [
    {
     "data": {
      "text/plain": [
       "[('base',), ('db_ice',), ('default',), ('sagemaker_featurestore',)]"
      ]
     },
     "execution_count": 115,
     "metadata": {},
     "output_type": "execute_result"
    }
   ],
   "source": [
    "glue_catalog.list_namespaces()"
   ]
  },
  {
   "cell_type": "code",
   "execution_count": 116,
   "id": "69a6e870",
   "metadata": {},
   "outputs": [],
   "source": [
    "DATABASE = \"db_ice\""
   ]
  },
  {
   "cell_type": "code",
   "execution_count": 117,
   "id": "7a597ec2",
   "metadata": {},
   "outputs": [
    {
     "data": {
      "text/plain": [
       "[]"
      ]
     },
     "execution_count": 117,
     "metadata": {},
     "output_type": "execute_result"
    }
   ],
   "source": [
    "glue_catalog.list_tables(DATABASE)"
   ]
  },
  {
   "cell_type": "markdown",
   "id": "162bcde8",
   "metadata": {},
   "source": [
    "## Create table"
   ]
  },
  {
   "cell_type": "code",
   "execution_count": 128,
   "id": "0cc48249",
   "metadata": {},
   "outputs": [],
   "source": [
    "tb_name        = \"tb_poligono\"\n",
    "table_location = f\"s3://data-us-east-1-891377318910/db_ice/{tb_name}\" \n",
    "\n",
    "schema = Schema(\n",
    "    T.NestedField(1, \"id_poligono\", T.StringType(), required=True),\n",
    "    T.NestedField(2, \"poligono\", T.StringType(), required=True),\n",
    "    T.NestedField(3, \"data_plantio\", T.StringType(), required=False),\n",
    "    T.NestedField(4, \"anomesdia\", T.IntegerType(), required=True),\n",
    "    identifier_field_ids=[1]\n",
    ")"
   ]
  },
  {
   "cell_type": "code",
   "execution_count": 129,
   "id": "b64c3bf9",
   "metadata": {},
   "outputs": [],
   "source": [
    "partition_field = schema.find_field(\"anomesdia\")\n",
    "\n",
    "partition_spec = PartitionSpec(\n",
    "    fields=[\n",
    "        # PartitionField(source_id=4, field_id=1, transform=DayTransform(\"anomesdia\"), name=\"anomesdia\")\n",
    "        PartitionField(\n",
    "            source_id=partition_field.field_id,\n",
    "            field_id=partition_field.field_id,\n",
    "            transform=IdentityTransform(),\n",
    "            name=\"anomesdia\"\n",
    "        )\n",
    "    ]\n",
    ")"
   ]
  },
  {
   "cell_type": "code",
   "execution_count": null,
   "id": "063b6644",
   "metadata": {},
   "outputs": [],
   "source": [
    "table = glue_catalog.create_table(\n",
    "    identifier=(DATABASE, tb_name),\n",
    "    schema=schema,\n",
    "    location=table_location,\n",
    "    partition_spec=partition_spec,\n",
    "    sort_order=SortOrder(\n",
    "        fields=[\n",
    "            SortField(1, IdentityTransform(), ascending=True),\n",
    "        ]\n",
    "    ),\n",
    "    properties={\n",
    "        \"format-version\": \"2\",\n",
    "        \"write.format.default\": \"parquet\",\n",
    "        \"write.parquet.compression-codec\": \"snappy\",\n",
    "        \"write.parquet.page-size\": \"1048576\",  # 1 MB\n",
    "        \"write.parquet.dictionary-enabled\": \"true\",\n",
    "        \"write.parquet.dictionary-page-size\": \"1048576\",  # 1 MB\n",
    "        \"write.parquet.block-size\": \"268435456\",  # 256 MB\n",
    "        \"write.parquet.enable-encoding\": \"true\",\n",
    "        \"write.parquet.enable-statistics\": \"true\",\n",
    "        \"write.parquet.enable-bloom-filter\": \"true\",\n",
    "        \"write.parquet.bloom-filter-encoding\": \"utf8\",\n",
    "    }\n",
    ")"
   ]
  },
  {
   "cell_type": "markdown",
   "id": "4896881e",
   "metadata": {},
   "source": [
    "## Load data"
   ]
  },
  {
   "cell_type": "code",
   "execution_count": 64,
   "id": "12e52226",
   "metadata": {},
   "outputs": [],
   "source": [
    "def bounds_to_ring(geom):\n",
    "    minx, miny, maxx, maxy = geom.bounds\n",
    "    return LinearRing([\n",
    "        (minx, miny),\n",
    "        (maxx, miny),\n",
    "        (maxx, maxy),\n",
    "        (minx, maxy),\n",
    "        (minx, miny)\n",
    "    ])\n",
    "\n",
    "\n",
    "def load_geosjon(path: str) -> dict:\n",
    "    with open(path, \"r\") as f:\n",
    "        obj = geojson.load(f)\n",
    "    return obj\n",
    "\n",
    "\n",
    "def get_polygon_from_geometry(geometry: dict) -> Polygon:\n",
    "    return Polygon(coords(geometry['coordinates']))"
   ]
  },
  {
   "cell_type": "code",
   "execution_count": 60,
   "id": "25d33c7c",
   "metadata": {},
   "outputs": [],
   "source": [
    "filepath = \"../../geospatial/tests_01/data/archive/BR_Municipios_2020.shp\"\n",
    "gdf_municipios = gpd.read_file(filepath)"
   ]
  },
  {
   "cell_type": "code",
   "execution_count": 65,
   "id": "679ebaed",
   "metadata": {},
   "outputs": [],
   "source": [
    "crs = \"EPSG:4674\"\n",
    "gdf_municipios = gdf_municipios.to_crs(crs)"
   ]
  },
  {
   "cell_type": "code",
   "execution_count": 66,
   "id": "b2d570c5",
   "metadata": {},
   "outputs": [
    {
     "name": "stderr",
     "output_type": "stream",
     "text": [
      "/tmp/ipykernel_618231/3704606062.py:2: UserWarning: Geometry is in a geographic CRS. Results from 'centroid' are likely incorrect. Use 'GeoSeries.to_crs()' to re-project geometries to a projected CRS before this operation.\n",
      "\n",
      "  gdf_municipios[\"centroid\"] = gdf_municipios.centroid\n"
     ]
    }
   ],
   "source": [
    "gdf_municipios['boundary'] = gdf_municipios.boundary\n",
    "gdf_municipios[\"centroid\"] = gdf_municipios.centroid\n",
    "gdf_municipios[\"bounds\"] = gdf_municipios.geometry.apply(bounds_to_ring)"
   ]
  },
  {
   "cell_type": "code",
   "execution_count": 67,
   "id": "69e13b79",
   "metadata": {},
   "outputs": [
    {
     "data": {
      "text/html": [
       "<div>\n",
       "<style scoped>\n",
       "    .dataframe tbody tr th:only-of-type {\n",
       "        vertical-align: middle;\n",
       "    }\n",
       "\n",
       "    .dataframe tbody tr th {\n",
       "        vertical-align: top;\n",
       "    }\n",
       "\n",
       "    .dataframe thead th {\n",
       "        text-align: right;\n",
       "    }\n",
       "</style>\n",
       "<table border=\"1\" class=\"dataframe\">\n",
       "  <thead>\n",
       "    <tr style=\"text-align: right;\">\n",
       "      <th></th>\n",
       "      <th>CD_MUN</th>\n",
       "      <th>NM_MUN</th>\n",
       "      <th>SIGLA_UF</th>\n",
       "      <th>AREA_KM2</th>\n",
       "      <th>geometry</th>\n",
       "      <th>boundary</th>\n",
       "      <th>centroid</th>\n",
       "      <th>bounds</th>\n",
       "    </tr>\n",
       "  </thead>\n",
       "  <tbody>\n",
       "    <tr>\n",
       "      <th>0</th>\n",
       "      <td>1100015</td>\n",
       "      <td>Alta Floresta D'Oeste</td>\n",
       "      <td>RO</td>\n",
       "      <td>7067.127</td>\n",
       "      <td>POLYGON ((-62.19465 -11.82746, -62.19332 -11.8...</td>\n",
       "      <td>LINESTRING (-62.19465 -11.82746, -62.19332 -11...</td>\n",
       "      <td>POINT (-62.27466 -12.47013)</td>\n",
       "      <td>LINEARRING (-62.89408 -13.11894, -61.88651 -13...</td>\n",
       "    </tr>\n",
       "    <tr>\n",
       "      <th>1</th>\n",
       "      <td>1100023</td>\n",
       "      <td>Ariquemes</td>\n",
       "      <td>RO</td>\n",
       "      <td>4426.571</td>\n",
       "      <td>POLYGON ((-62.53648 -9.73222, -62.52765 -9.736...</td>\n",
       "      <td>LINESTRING (-62.53648 -9.73222, -62.52765 -9.7...</td>\n",
       "      <td>POINT (-62.95726 -9.95189)</td>\n",
       "      <td>LINEARRING (-63.61822 -10.28828, -62.42262 -10...</td>\n",
       "    </tr>\n",
       "    <tr>\n",
       "      <th>2</th>\n",
       "      <td>1100031</td>\n",
       "      <td>Cabixi</td>\n",
       "      <td>RO</td>\n",
       "      <td>1314.352</td>\n",
       "      <td>POLYGON ((-60.37119 -13.36655, -60.37134 -13.3...</td>\n",
       "      <td>LINESTRING (-60.37119 -13.36655, -60.37134 -13...</td>\n",
       "      <td>POINT (-60.63981 -13.47488)</td>\n",
       "      <td>LINEARRING (-60.92476 -13.6937, -60.36529 -13....</td>\n",
       "    </tr>\n",
       "    <tr>\n",
       "      <th>3</th>\n",
       "      <td>1100049</td>\n",
       "      <td>Cacoal</td>\n",
       "      <td>RO</td>\n",
       "      <td>3793.000</td>\n",
       "      <td>POLYGON ((-61.0008 -11.29737, -61.00103 -11.39...</td>\n",
       "      <td>LINESTRING (-61.0008 -11.29737, -61.00103 -11....</td>\n",
       "      <td>POINT (-61.32473 -11.30129)</td>\n",
       "      <td>LINEARRING (-61.7958 -11.61921, -61.00059 -11....</td>\n",
       "    </tr>\n",
       "    <tr>\n",
       "      <th>4</th>\n",
       "      <td>1100056</td>\n",
       "      <td>Cerejeiras</td>\n",
       "      <td>RO</td>\n",
       "      <td>2783.300</td>\n",
       "      <td>POLYGON ((-61.49976 -13.00525, -61.49809 -13.0...</td>\n",
       "      <td>LINESTRING (-61.49976 -13.00525, -61.49809 -13...</td>\n",
       "      <td>POINT (-61.26095 -13.20356)</td>\n",
       "      <td>LINEARRING (-61.90804 -13.36371, -60.71665 -13...</td>\n",
       "    </tr>\n",
       "  </tbody>\n",
       "</table>\n",
       "</div>"
      ],
      "text/plain": [
       "    CD_MUN                 NM_MUN SIGLA_UF  AREA_KM2  \\\n",
       "0  1100015  Alta Floresta D'Oeste       RO  7067.127   \n",
       "1  1100023              Ariquemes       RO  4426.571   \n",
       "2  1100031                 Cabixi       RO  1314.352   \n",
       "3  1100049                 Cacoal       RO  3793.000   \n",
       "4  1100056             Cerejeiras       RO  2783.300   \n",
       "\n",
       "                                            geometry  \\\n",
       "0  POLYGON ((-62.19465 -11.82746, -62.19332 -11.8...   \n",
       "1  POLYGON ((-62.53648 -9.73222, -62.52765 -9.736...   \n",
       "2  POLYGON ((-60.37119 -13.36655, -60.37134 -13.3...   \n",
       "3  POLYGON ((-61.0008 -11.29737, -61.00103 -11.39...   \n",
       "4  POLYGON ((-61.49976 -13.00525, -61.49809 -13.0...   \n",
       "\n",
       "                                            boundary  \\\n",
       "0  LINESTRING (-62.19465 -11.82746, -62.19332 -11...   \n",
       "1  LINESTRING (-62.53648 -9.73222, -62.52765 -9.7...   \n",
       "2  LINESTRING (-60.37119 -13.36655, -60.37134 -13...   \n",
       "3  LINESTRING (-61.0008 -11.29737, -61.00103 -11....   \n",
       "4  LINESTRING (-61.49976 -13.00525, -61.49809 -13...   \n",
       "\n",
       "                      centroid  \\\n",
       "0  POINT (-62.27466 -12.47013)   \n",
       "1   POINT (-62.95726 -9.95189)   \n",
       "2  POINT (-60.63981 -13.47488)   \n",
       "3  POINT (-61.32473 -11.30129)   \n",
       "4  POINT (-61.26095 -13.20356)   \n",
       "\n",
       "                                              bounds  \n",
       "0  LINEARRING (-62.89408 -13.11894, -61.88651 -13...  \n",
       "1  LINEARRING (-63.61822 -10.28828, -62.42262 -10...  \n",
       "2  LINEARRING (-60.92476 -13.6937, -60.36529 -13....  \n",
       "3  LINEARRING (-61.7958 -11.61921, -61.00059 -11....  \n",
       "4  LINEARRING (-61.90804 -13.36371, -60.71665 -13...  "
      ]
     },
     "execution_count": 67,
     "metadata": {},
     "output_type": "execute_result"
    }
   ],
   "source": [
    "gdf_municipios.head(5)"
   ]
  },
  {
   "cell_type": "code",
   "execution_count": 70,
   "id": "9e083bf5",
   "metadata": {},
   "outputs": [
    {
     "data": {
      "text/plain": [
       "2911     3.565\n",
       "3273     3.612\n",
       "3812    15.331\n",
       "3711    17.264\n",
       "3550    17.449\n",
       "1525    18.609\n",
       "3221    19.393\n",
       "1774    19.793\n",
       "3855    20.388\n",
       "1637    25.704\n",
       "Name: AREA_KM2, dtype: float64"
      ]
     },
     "execution_count": 70,
     "metadata": {},
     "output_type": "execute_result"
    }
   ],
   "source": [
    "gdf_municipios['AREA_KM2'].nsmallest(10)"
   ]
  },
  {
   "cell_type": "code",
   "execution_count": 86,
   "id": "69a39eaa",
   "metadata": {},
   "outputs": [
    {
     "data": {
      "text/html": [
       "<div>\n",
       "<style scoped>\n",
       "    .dataframe tbody tr th:only-of-type {\n",
       "        vertical-align: middle;\n",
       "    }\n",
       "\n",
       "    .dataframe tbody tr th {\n",
       "        vertical-align: top;\n",
       "    }\n",
       "\n",
       "    .dataframe thead th {\n",
       "        text-align: right;\n",
       "    }\n",
       "</style>\n",
       "<table border=\"1\" class=\"dataframe\">\n",
       "  <thead>\n",
       "    <tr style=\"text-align: right;\">\n",
       "      <th></th>\n",
       "      <th>CD_MUN</th>\n",
       "      <th>geometry</th>\n",
       "    </tr>\n",
       "  </thead>\n",
       "  <tbody>\n",
       "    <tr>\n",
       "      <th>0</th>\n",
       "      <td>3548807</td>\n",
       "      <td>POLYGON ((-46.55698 -23.61209, -46.55694 -23.6...</td>\n",
       "    </tr>\n",
       "    <tr>\n",
       "      <th>1</th>\n",
       "      <td>3539806</td>\n",
       "      <td>POLYGON ((-46.35065 -23.50767, -46.35048 -23.5...</td>\n",
       "    </tr>\n",
       "    <tr>\n",
       "      <th>2</th>\n",
       "      <td>3525003</td>\n",
       "      <td>POLYGON ((-46.91529 -23.51394, -46.91525 -23.5...</td>\n",
       "    </tr>\n",
       "    <tr>\n",
       "      <th>3</th>\n",
       "      <td>2802502</td>\n",
       "      <td>POLYGON ((-36.98399 -10.68278, -36.98237 -10.6...</td>\n",
       "    </tr>\n",
       "    <tr>\n",
       "      <th>4</th>\n",
       "      <td>3303203</td>\n",
       "      <td>POLYGON ((-43.40291 -22.8003, -43.40187 -22.80...</td>\n",
       "    </tr>\n",
       "  </tbody>\n",
       "</table>\n",
       "</div>"
      ],
      "text/plain": [
       "    CD_MUN                                           geometry\n",
       "0  3548807  POLYGON ((-46.55698 -23.61209, -46.55694 -23.6...\n",
       "1  3539806  POLYGON ((-46.35065 -23.50767, -46.35048 -23.5...\n",
       "2  3525003  POLYGON ((-46.91529 -23.51394, -46.91525 -23.5...\n",
       "3  2802502  POLYGON ((-36.98399 -10.68278, -36.98237 -10.6...\n",
       "4  3303203  POLYGON ((-43.40291 -22.8003, -43.40187 -22.80..."
      ]
     },
     "execution_count": 86,
     "metadata": {},
     "output_type": "execute_result"
    }
   ],
   "source": [
    "gdf = gdf_municipios.loc[[3812, 3711, 3550, 1774, 3221], ['CD_MUN', 'geometry']].reset_index(drop=True)\n",
    "gdf.head(100)"
   ]
  },
  {
   "cell_type": "code",
   "execution_count": 97,
   "id": "ca2ac3fb",
   "metadata": {},
   "outputs": [],
   "source": [
    "size = gdf.shape[0]\n",
    "polygons = {}\n",
    "\n",
    "for item in range(size):\n",
    "    polygons[item] = str(gdf['geometry'].values[item].wkt)"
   ]
  },
  {
   "cell_type": "code",
   "execution_count": 99,
   "id": "149acc27",
   "metadata": {},
   "outputs": [
    {
     "data": {
      "text/plain": [
       "dict_keys([0, 1, 2, 3, 4])"
      ]
     },
     "execution_count": 99,
     "metadata": {},
     "output_type": "execute_result"
    }
   ],
   "source": [
    "polygons.keys()"
   ]
  },
  {
   "cell_type": "markdown",
   "id": "620e4e68",
   "metadata": {},
   "source": [
    "## Insert data"
   ]
  },
  {
   "cell_type": "code",
   "execution_count": 107,
   "id": "534fdfe8",
   "metadata": {},
   "outputs": [],
   "source": [
    "table = glue_catalog.load_table((DATABASE, tb_name))"
   ]
  },
  {
   "cell_type": "code",
   "execution_count": 131,
   "id": "a54de5dc",
   "metadata": {},
   "outputs": [],
   "source": [
    "arrow_schema = pa.schema(\n",
    "    [\n",
    "        pa.field(\"id_poligono\", pa.string(), nullable=False),\n",
    "        pa.field(\"poligono\", pa.string(), nullable=False),\n",
    "        pa.field(\"data_plantio\", pa.string(), nullable=True),\n",
    "        pa.field(\"anomesdia\", pa.uint32(), nullable=False),\n",
    "    ]\n",
    ")"
   ]
  },
  {
   "cell_type": "code",
   "execution_count": 132,
   "id": "c1de47e2",
   "metadata": {},
   "outputs": [],
   "source": [
    "table_values = [\n",
    "    {\"id_poligono\": \"id_001\", \"poligono\": polygons[0], \"data_plantio\": \"2023-06-20\", \"anomesdia\": 20250810},\n",
    "    {\"id_poligono\": \"id_002\", \"poligono\": polygons[1], \"data_plantio\": \"2023-07-10\", \"anomesdia\": 20250810},\n",
    "    {\"id_poligono\": \"id_003\", \"poligono\": polygons[2], \"data_plantio\": \"2023-08-01\", \"anomesdia\": 20250810},\n",
    "    {\"id_poligono\": \"id_004\", \"poligono\": polygons[3], \"data_plantio\": \"2023-08-01\", \"anomesdia\": 20250810},\n",
    "    {\"id_poligono\": \"id_005\", \"poligono\": polygons[4], \"data_plantio\": \"2023-08-01\", \"anomesdia\": 20250810},\n",
    "]"
   ]
  },
  {
   "cell_type": "code",
   "execution_count": 133,
   "id": "a9d2828d",
   "metadata": {},
   "outputs": [],
   "source": [
    "pa_table = pa.Table.from_pylist(\n",
    "    table_values,\n",
    "    schema=arrow_schema\n",
    ")"
   ]
  },
  {
   "cell_type": "code",
   "execution_count": 134,
   "id": "343c3178",
   "metadata": {},
   "outputs": [
    {
     "data": {
      "text/html": [
       "<div>\n",
       "<style scoped>\n",
       "    .dataframe tbody tr th:only-of-type {\n",
       "        vertical-align: middle;\n",
       "    }\n",
       "\n",
       "    .dataframe tbody tr th {\n",
       "        vertical-align: top;\n",
       "    }\n",
       "\n",
       "    .dataframe thead th {\n",
       "        text-align: right;\n",
       "    }\n",
       "</style>\n",
       "<table border=\"1\" class=\"dataframe\">\n",
       "  <thead>\n",
       "    <tr style=\"text-align: right;\">\n",
       "      <th></th>\n",
       "      <th>id_poligono</th>\n",
       "      <th>poligono</th>\n",
       "      <th>data_plantio</th>\n",
       "      <th>anomesdia</th>\n",
       "    </tr>\n",
       "  </thead>\n",
       "  <tbody>\n",
       "    <tr>\n",
       "      <th>0</th>\n",
       "      <td>id_001</td>\n",
       "      <td>POLYGON ((-46.556983701 -23.612093836, -46.556...</td>\n",
       "      <td>2023-06-20</td>\n",
       "      <td>20250810</td>\n",
       "    </tr>\n",
       "    <tr>\n",
       "      <th>1</th>\n",
       "      <td>id_002</td>\n",
       "      <td>POLYGON ((-46.350654 -23.507674999, -46.350485...</td>\n",
       "      <td>2023-07-10</td>\n",
       "      <td>20250810</td>\n",
       "    </tr>\n",
       "    <tr>\n",
       "      <th>2</th>\n",
       "      <td>id_003</td>\n",
       "      <td>POLYGON ((-46.915293 -23.513940999, -46.915253...</td>\n",
       "      <td>2023-08-01</td>\n",
       "      <td>20250810</td>\n",
       "    </tr>\n",
       "    <tr>\n",
       "      <th>3</th>\n",
       "      <td>id_004</td>\n",
       "      <td>POLYGON ((-36.983988539 -10.682781162, -36.982...</td>\n",
       "      <td>2023-08-01</td>\n",
       "      <td>20250810</td>\n",
       "    </tr>\n",
       "    <tr>\n",
       "      <th>4</th>\n",
       "      <td>id_005</td>\n",
       "      <td>POLYGON ((-43.402914028 -22.800304262, -43.401...</td>\n",
       "      <td>2023-08-01</td>\n",
       "      <td>20250810</td>\n",
       "    </tr>\n",
       "  </tbody>\n",
       "</table>\n",
       "</div>"
      ],
      "text/plain": [
       "  id_poligono                                           poligono data_plantio  \\\n",
       "0      id_001  POLYGON ((-46.556983701 -23.612093836, -46.556...   2023-06-20   \n",
       "1      id_002  POLYGON ((-46.350654 -23.507674999, -46.350485...   2023-07-10   \n",
       "2      id_003  POLYGON ((-46.915293 -23.513940999, -46.915253...   2023-08-01   \n",
       "3      id_004  POLYGON ((-36.983988539 -10.682781162, -36.982...   2023-08-01   \n",
       "4      id_005  POLYGON ((-43.402914028 -22.800304262, -43.401...   2023-08-01   \n",
       "\n",
       "   anomesdia  \n",
       "0   20250810  \n",
       "1   20250810  \n",
       "2   20250810  \n",
       "3   20250810  \n",
       "4   20250810  "
      ]
     },
     "execution_count": 134,
     "metadata": {},
     "output_type": "execute_result"
    }
   ],
   "source": [
    "pa_table.to_pandas().head()"
   ]
  },
  {
   "cell_type": "code",
   "execution_count": 135,
   "id": "06553c9b",
   "metadata": {},
   "outputs": [
    {
     "name": "stderr",
     "output_type": "stream",
     "text": [
      "/home/apolo/anaconda3/envs/itau/lib/python3.10/site-packages/pyiceberg/io/pyarrow.py:2532: UserWarning: Parquet writer option(s) ['write.parquet.bloom-filter-max-bytes'] not implemented\n",
      "  warnings.warn(f\"Parquet writer option(s) {unsupported_keys} not implemented\")\n"
     ]
    }
   ],
   "source": [
    "table.append(pa_table)"
   ]
  },
  {
   "cell_type": "code",
   "execution_count": null,
   "id": "3f407406",
   "metadata": {},
   "outputs": [],
   "source": []
  },
  {
   "cell_type": "code",
   "execution_count": null,
   "id": "58b9f6c8",
   "metadata": {},
   "outputs": [],
   "source": []
  },
  {
   "cell_type": "code",
   "execution_count": null,
   "id": "721b6fb6",
   "metadata": {},
   "outputs": [],
   "source": []
  }
 ],
 "metadata": {
  "kernelspec": {
   "display_name": "itau",
   "language": "python",
   "name": "python3"
  },
  "language_info": {
   "codemirror_mode": {
    "name": "ipython",
    "version": 3
   },
   "file_extension": ".py",
   "mimetype": "text/x-python",
   "name": "python",
   "nbconvert_exporter": "python",
   "pygments_lexer": "ipython3",
   "version": "3.10.14"
  }
 },
 "nbformat": 4,
 "nbformat_minor": 5
}
